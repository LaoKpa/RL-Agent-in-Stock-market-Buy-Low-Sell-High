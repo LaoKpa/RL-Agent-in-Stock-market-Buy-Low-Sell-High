{
 "cells": [
  {
   "cell_type": "markdown",
   "metadata": {},
   "source": [
    "Here I'll try to find the best thresholds for purchase/ sale in a deterministic policy. Again, the agent either buys the maximum number of shares or sells them all."
   ]
  },
  {
   "cell_type": "code",
   "execution_count": 1,
   "metadata": {
    "collapsed": true
   },
   "outputs": [],
   "source": [
    "# Read the data\n",
    "\n",
    "inFile = open(\"sp500.txt\", 'r')\n",
    "\n",
    "List = []\n",
    "for line in inFile:\n",
    "    List.append(line.replace(',', '.'))\n",
    "inFile.close()\n",
    "\n",
    "ListNum1 = []\n",
    "\n",
    "for ind in range(len(List)):\n",
    "    sss = List[ind]\n",
    "    ListNum1.append(float(sss))\n",
    "ListNum = ListNum1[::-1]\n",
    "price = ListNum[253:]"
   ]
  },
  {
   "cell_type": "code",
   "execution_count": 2,
   "metadata": {
    "collapsed": true
   },
   "outputs": [],
   "source": [
    "# Get medians\n",
    "\n",
    "inFile = open(\"median.txt\", 'r')\n",
    "\n",
    "List = []\n",
    "for line in inFile:\n",
    "    List.append(line.replace(',', '.'))\n",
    "inFile.close()\n",
    "\n",
    "median = []\n",
    "for ind in range(len(List)):\n",
    "    sss = List[ind]\n",
    "    median.append(float(sss))"
   ]
  },
  {
   "cell_type": "code",
   "execution_count": 3,
   "metadata": {
    "collapsed": true
   },
   "outputs": [],
   "source": [
    "# Get 1st quartiles\n",
    "\n",
    "inFile = open(\"quartile1st.txt\", 'r')\n",
    "\n",
    "List = []\n",
    "for line in inFile:\n",
    "    List.append(line.replace(',', '.'))\n",
    "inFile.close()\n",
    "\n",
    "qu1 = []\n",
    "for ind in range(len(List)):\n",
    "    sss = List[ind]\n",
    "    qu1.append(float(sss))"
   ]
  },
  {
   "cell_type": "code",
   "execution_count": 4,
   "metadata": {
    "collapsed": true
   },
   "outputs": [],
   "source": [
    "# Get 3rd quartiles\n",
    "\n",
    "inFile = open(\"quartile3rd.txt\", 'r')\n",
    "\n",
    "List = []\n",
    "for line in inFile:\n",
    "    List.append(line.replace(',', '.'))\n",
    "inFile.close()\n",
    "\n",
    "qu3 = []\n",
    "for ind in range(len(List)):\n",
    "    sss = List[ind]\n",
    "    qu3.append(float(sss))"
   ]
  },
  {
   "cell_type": "code",
   "execution_count": 5,
   "metadata": {
    "collapsed": true
   },
   "outputs": [],
   "source": [
    "import random"
   ]
  },
  {
   "cell_type": "code",
   "execution_count": 6,
   "metadata": {
    "collapsed": true
   },
   "outputs": [],
   "source": [
    "# for a 2 year episode without taking into account the opportunity cost of the capital:\n",
    "\n",
    "def runEpisode(ind, k1, k2, price=price, median=median, qu1=qu1, qu3=qu3):\n",
    "    cash = 10000\n",
    "    flag = False\n",
    "    nshares = 0\n",
    "    fee = 9.99\n",
    "    nmax = 507\n",
    "    \n",
    "    for i in range(ind, (ind+nmax-1)):\n",
    "        \n",
    "        if price[i] < median[i] - k1*(median[i] - qu1[i]) and flag == False:\n",
    "            # Buy!\n",
    "            nshares = ((cash-fee)/price[i])//1\n",
    "            cash = cash - nshares*price[i] - fee\n",
    "            if nshares:\n",
    "                flag = True\n",
    "                    \n",
    "        elif price[i] > median[i] + k2*(qu3[i]-median[i]) and flag == True:\n",
    "            # Sell!                \n",
    "            cash = cash + nshares*price[i] - fee\n",
    "            nshares = 0\n",
    "            flag = False\n",
    "                \n",
    "    # the final day of the episode:\n",
    "    if nshares:\n",
    "        cash = cash + nshares*price[ind+nmax-1] - fee\n",
    "    \n",
    "    return cash - 10000"
   ]
  },
  {
   "cell_type": "code",
   "execution_count": 7,
   "metadata": {},
   "outputs": [
    {
     "name": "stdout",
     "output_type": "stream",
     "text": [
      "295.8600000000006\n"
     ]
    }
   ],
   "source": [
    "ind = 1001\n",
    "\n",
    "k1 = 1\n",
    "k2 = 1\n",
    "\n",
    "print (runEpisode(ind, k1, k2))"
   ]
  },
  {
   "cell_type": "code",
   "execution_count": 8,
   "metadata": {
    "collapsed": true
   },
   "outputs": [],
   "source": [
    "import numpy as np"
   ]
  },
  {
   "cell_type": "code",
   "execution_count": 9,
   "metadata": {},
   "outputs": [
    {
     "name": "stdout",
     "output_type": "stream",
     "text": [
      "199.37611875000073 1717.3981139256484\n"
     ]
    }
   ],
   "source": [
    "k1 = 1\n",
    "k2 = 1\n",
    "gain = []\n",
    "\n",
    "for ind in random.sample(range(3650), 1600):\n",
    "    gain.append(runEpisode(ind, k1, k2))\n",
    "    \n",
    "g = np.array(gain)\n",
    "print (np.mean(g), np.std(g))"
   ]
  },
  {
   "cell_type": "code",
   "execution_count": 10,
   "metadata": {},
   "outputs": [
    {
     "name": "stdout",
     "output_type": "stream",
     "text": [
      "240.62624431250075 29.559469412416103\n"
     ]
    }
   ],
   "source": [
    "k1 = 1\n",
    "k2 = 1\n",
    "\n",
    "av_gain = []\n",
    "for epoch in range(100):\n",
    "    gain = []\n",
    "    for ind in random.sample(range(3650), 1600):\n",
    "        gain.append(runEpisode(ind, k1, k2))\n",
    "    g = np.array(gain)\n",
    "    av_gain.append(np.mean(g))\n",
    "    \n",
    "av = np.array(av_gain)\n",
    "print (np.mean(av), np.std(av))"
   ]
  },
  {
   "cell_type": "code",
   "execution_count": 11,
   "metadata": {},
   "outputs": [
    {
     "name": "stdout",
     "output_type": "stream",
     "text": [
      "222.5947011250006 32.50291657683997\n"
     ]
    }
   ],
   "source": [
    "k1 = 1.1\n",
    "k2 = 1\n",
    "\n",
    "av_gain = []\n",
    "for epoch in range(100):\n",
    "    gain = []\n",
    "    for ind in random.sample(range(3650), 1600):\n",
    "        gain.append(runEpisode(ind, k1, k2))\n",
    "    g = np.array(gain)\n",
    "    av_gain.append(np.mean(g))\n",
    "    \n",
    "av = np.array(av_gain)\n",
    "print (np.mean(av), np.std(av))"
   ]
  },
  {
   "cell_type": "code",
   "execution_count": 12,
   "metadata": {},
   "outputs": [
    {
     "name": "stdout",
     "output_type": "stream",
     "text": [
      "114.45989212500089 32.35478184050776\n"
     ]
    }
   ],
   "source": [
    "k1 = 1\n",
    "k2 = 1.1\n",
    "\n",
    "av_gain = []\n",
    "for epoch in range(100):\n",
    "    gain = []\n",
    "    for ind in random.sample(range(3650), 1600):\n",
    "        gain.append(runEpisode(ind, k1, k2))\n",
    "    g = np.array(gain)\n",
    "    av_gain.append(np.mean(g))\n",
    "    \n",
    "av = np.array(av_gain)\n",
    "print (np.mean(av), np.std(av))"
   ]
  },
  {
   "cell_type": "code",
   "execution_count": 13,
   "metadata": {},
   "outputs": [
    {
     "name": "stdout",
     "output_type": "stream",
     "text": [
      "76.32991687500069 33.16731732490715\n"
     ]
    }
   ],
   "source": [
    "k1 = 1.1\n",
    "k2 = 1.1\n",
    "\n",
    "av_gain = []\n",
    "for epoch in range(100):\n",
    "    gain = []\n",
    "    for ind in random.sample(range(3650), 1600):\n",
    "        gain.append(runEpisode(ind, k1, k2))\n",
    "    g = np.array(gain)\n",
    "    av_gain.append(np.mean(g))\n",
    "    \n",
    "av = np.array(av_gain)\n",
    "print (np.mean(av), np.std(av))"
   ]
  },
  {
   "cell_type": "code",
   "execution_count": 14,
   "metadata": {},
   "outputs": [
    {
     "name": "stdout",
     "output_type": "stream",
     "text": [
      "54.4893673750003 35.703456583257925\n"
     ]
    }
   ],
   "source": [
    "k1 = 1.5\n",
    "k2 = 1.5\n",
    "\n",
    "av_gain = []\n",
    "for epoch in range(100):\n",
    "    gain = []\n",
    "    for ind in random.sample(range(3650), 1600):\n",
    "        gain.append(runEpisode(ind, k1, k2))\n",
    "    g = np.array(gain)\n",
    "    av_gain.append(np.mean(g))\n",
    "    \n",
    "av = np.array(av_gain)\n",
    "print (np.mean(av), np.std(av))"
   ]
  },
  {
   "cell_type": "code",
   "execution_count": 15,
   "metadata": {},
   "outputs": [
    {
     "name": "stdout",
     "output_type": "stream",
     "text": [
      "262.9738786250007 36.772721372511164\n"
     ]
    }
   ],
   "source": [
    "k1 = 0.9\n",
    "k2 = 1\n",
    "\n",
    "av_gain = []\n",
    "for epoch in range(100):\n",
    "    gain = []\n",
    "    for ind in random.sample(range(3650), 1600):\n",
    "        gain.append(runEpisode(ind, k1, k2))\n",
    "    g = np.array(gain)\n",
    "    av_gain.append(np.mean(g))\n",
    "    \n",
    "av = np.array(av_gain)\n",
    "print (np.mean(av), np.std(av))"
   ]
  },
  {
   "cell_type": "code",
   "execution_count": 16,
   "metadata": {},
   "outputs": [
    {
     "name": "stdout",
     "output_type": "stream",
     "text": [
      "211.7195468750008 31.50559164138306\n"
     ]
    }
   ],
   "source": [
    "k1 = 1\n",
    "k2 = 0.9\n",
    "\n",
    "av_gain = []\n",
    "for epoch in range(100):\n",
    "    gain = []\n",
    "    for ind in random.sample(range(3650), 1600):\n",
    "        gain.append(runEpisode(ind, k1, k2))\n",
    "    g = np.array(gain)\n",
    "    av_gain.append(np.mean(g))\n",
    "    \n",
    "av = np.array(av_gain)\n",
    "print (np.mean(av), np.std(av))"
   ]
  },
  {
   "cell_type": "code",
   "execution_count": 17,
   "metadata": {},
   "outputs": [
    {
     "name": "stdout",
     "output_type": "stream",
     "text": [
      "212.58927181250058 29.88602707875789\n"
     ]
    }
   ],
   "source": [
    "k1 = 0.9\n",
    "k2 = 0.9\n",
    "\n",
    "av_gain = []\n",
    "for epoch in range(100):\n",
    "    gain = []\n",
    "    for ind in random.sample(range(3650), 1600):\n",
    "        gain.append(runEpisode(ind, k1, k2))\n",
    "    g = np.array(gain)\n",
    "    av_gain.append(np.mean(g))\n",
    "    \n",
    "av = np.array(av_gain)\n",
    "print (np.mean(av), np.std(av))"
   ]
  },
  {
   "cell_type": "code",
   "execution_count": 18,
   "metadata": {},
   "outputs": [
    {
     "name": "stdout",
     "output_type": "stream",
     "text": [
      "250.3551746875008 30.91077198988485\n"
     ]
    }
   ],
   "source": [
    "k1 = 0.8\n",
    "k2 = 1\n",
    "\n",
    "av_gain = []\n",
    "for epoch in range(100):\n",
    "    gain = []\n",
    "    for ind in random.sample(range(3650), 1600):\n",
    "        gain.append(runEpisode(ind, k1, k2))\n",
    "    g = np.array(gain)\n",
    "    av_gain.append(np.mean(g))\n",
    "    \n",
    "av = np.array(av_gain)\n",
    "print (np.mean(av), np.std(av))"
   ]
  },
  {
   "cell_type": "code",
   "execution_count": 19,
   "metadata": {},
   "outputs": [
    {
     "name": "stdout",
     "output_type": "stream",
     "text": [
      "221.76876937500052 30.886040911685\n"
     ]
    }
   ],
   "source": [
    "k1 = 0.7\n",
    "k2 = 1\n",
    "\n",
    "av_gain = []\n",
    "for epoch in range(100):\n",
    "    gain = []\n",
    "    for ind in random.sample(range(3650), 1600):\n",
    "        gain.append(runEpisode(ind, k1, k2))\n",
    "    g = np.array(gain)\n",
    "    av_gain.append(np.mean(g))\n",
    "    \n",
    "av = np.array(av_gain)\n",
    "print (np.mean(av), np.std(av))"
   ]
  },
  {
   "cell_type": "code",
   "execution_count": 20,
   "metadata": {},
   "outputs": [
    {
     "name": "stdout",
     "output_type": "stream",
     "text": [
      "228.05523325000067 27.92909675229833\n"
     ]
    }
   ],
   "source": [
    "k1 = 0.6\n",
    "k2 = 1\n",
    "\n",
    "av_gain = []\n",
    "for epoch in range(100):\n",
    "    gain = []\n",
    "    for ind in random.sample(range(3650), 1600):\n",
    "        gain.append(runEpisode(ind, k1, k2))\n",
    "    g = np.array(gain)\n",
    "    av_gain.append(np.mean(g))\n",
    "    \n",
    "av = np.array(av_gain)\n",
    "print (np.mean(av), np.std(av))"
   ]
  },
  {
   "cell_type": "code",
   "execution_count": 21,
   "metadata": {},
   "outputs": [
    {
     "name": "stdout",
     "output_type": "stream",
     "text": [
      "260.2636867500007 30.638222419847924\n"
     ]
    }
   ],
   "source": [
    "k1 = 0.85\n",
    "k2 = 1\n",
    "\n",
    "av_gain = []\n",
    "for epoch in range(100):\n",
    "    gain = []\n",
    "    for ind in random.sample(range(3650), 1600):\n",
    "        gain.append(runEpisode(ind, k1, k2))\n",
    "    g = np.array(gain)\n",
    "    av_gain.append(np.mean(g))\n",
    "    \n",
    "av = np.array(av_gain)\n",
    "print (np.mean(av), np.std(av))"
   ]
  },
  {
   "cell_type": "code",
   "execution_count": 22,
   "metadata": {},
   "outputs": [
    {
     "name": "stdout",
     "output_type": "stream",
     "text": [
      "259.89340425000074 33.315623305818505\n"
     ]
    }
   ],
   "source": [
    "k1 = 0.9\n",
    "k2 = 1\n",
    "\n",
    "av_gain = []\n",
    "for epoch in range(100):\n",
    "    gain = []\n",
    "    for ind in random.sample(range(3650), 1600):\n",
    "        gain.append(runEpisode(ind, k1, k2))\n",
    "    g = np.array(gain)\n",
    "    av_gain.append(np.mean(g))\n",
    "    \n",
    "av = np.array(av_gain)\n",
    "print (np.mean(av), np.std(av))"
   ]
  },
  {
   "cell_type": "code",
   "execution_count": 23,
   "metadata": {},
   "outputs": [
    {
     "name": "stdout",
     "output_type": "stream",
     "text": [
      "303.219439812501 35.422084216620235\n"
     ]
    }
   ],
   "source": [
    "k1 = 0.9\n",
    "k2 = 1.05\n",
    "\n",
    "av_gain = []\n",
    "for epoch in range(100):\n",
    "    gain = []\n",
    "    for ind in random.sample(range(3650), 1600):\n",
    "        gain.append(runEpisode(ind, k1, k2))\n",
    "    g = np.array(gain)\n",
    "    av_gain.append(np.mean(g))\n",
    "    \n",
    "av = np.array(av_gain)\n",
    "print (np.mean(av), np.std(av))"
   ]
  },
  {
   "cell_type": "code",
   "execution_count": 24,
   "metadata": {},
   "outputs": [
    {
     "name": "stdout",
     "output_type": "stream",
     "text": [
      "327.2589635000011 31.354520507689145\n"
     ]
    }
   ],
   "source": [
    "k1 = 0.95\n",
    "k2 = 1.05\n",
    "\n",
    "av_gain = []\n",
    "for epoch in range(100):\n",
    "    gain = []\n",
    "    for ind in random.sample(range(3650), 1600):\n",
    "        gain.append(runEpisode(ind, k1, k2))\n",
    "    g = np.array(gain)\n",
    "    av_gain.append(np.mean(g))\n",
    "    \n",
    "av = np.array(av_gain)\n",
    "print (np.mean(av), np.std(av))"
   ]
  },
  {
   "cell_type": "code",
   "execution_count": 25,
   "metadata": {},
   "outputs": [
    {
     "name": "stdout",
     "output_type": "stream",
     "text": [
      "176.53380331250105 35.17052494996986\n"
     ]
    }
   ],
   "source": [
    "k1 = 0.95\n",
    "k2 = 1.1\n",
    "\n",
    "av_gain = []\n",
    "for epoch in range(100):\n",
    "    gain = []\n",
    "    for ind in random.sample(range(3650), 1600):\n",
    "        gain.append(runEpisode(ind, k1, k2))\n",
    "    g = np.array(gain)\n",
    "    av_gain.append(np.mean(g))\n",
    "    \n",
    "av = np.array(av_gain)\n",
    "print (np.mean(av), np.std(av))"
   ]
  },
  {
   "cell_type": "code",
   "execution_count": 26,
   "metadata": {},
   "outputs": [
    {
     "name": "stdout",
     "output_type": "stream",
     "text": [
      "182.60528831250107 33.70535053919742\n"
     ]
    }
   ],
   "source": [
    "k1 = 0.95\n",
    "k2 = 1.1\n",
    "\n",
    "av_gain = []\n",
    "for epoch in range(100):\n",
    "    gain = []\n",
    "    for ind in random.sample(range(3650), 1600):\n",
    "        gain.append(runEpisode(ind, k1, k2))\n",
    "    g = np.array(gain)\n",
    "    av_gain.append(np.mean(g))\n",
    "    \n",
    "av = np.array(av_gain)\n",
    "print (np.mean(av), np.std(av))"
   ]
  },
  {
   "cell_type": "code",
   "execution_count": 27,
   "metadata": {},
   "outputs": [
    {
     "name": "stdout",
     "output_type": "stream",
     "text": [
      "181.62462962500118 31.583473194273168\n"
     ]
    }
   ],
   "source": [
    "k1 = 0.95\n",
    "k2 = 1.15\n",
    "\n",
    "av_gain = []\n",
    "for epoch in range(100):\n",
    "    gain = []\n",
    "    for ind in random.sample(range(3650), 1600):\n",
    "        gain.append(runEpisode(ind, k1, k2))\n",
    "    g = np.array(gain)\n",
    "    av_gain.append(np.mean(g))\n",
    "    \n",
    "av = np.array(av_gain)\n",
    "print (np.mean(av), np.std(av))"
   ]
  },
  {
   "cell_type": "code",
   "execution_count": 28,
   "metadata": {},
   "outputs": [
    {
     "name": "stdout",
     "output_type": "stream",
     "text": [
      "326.92035481250105 28.397158325046917\n"
     ]
    }
   ],
   "source": [
    "k1 = 0.95\n",
    "k2 = 1.05\n",
    "\n",
    "av_gain = []\n",
    "for epoch in range(100):\n",
    "    gain = []\n",
    "    for ind in random.sample(range(3650), 1600):\n",
    "        gain.append(runEpisode(ind, k1, k2))\n",
    "    g = np.array(gain)\n",
    "    av_gain.append(np.mean(g))\n",
    "    \n",
    "av = np.array(av_gain)\n",
    "print (np.mean(av), np.std(av))"
   ]
  },
  {
   "cell_type": "code",
   "execution_count": 29,
   "metadata": {},
   "outputs": [
    {
     "name": "stdout",
     "output_type": "stream",
     "text": [
      "333.024613375001 32.707048903031485\n"
     ]
    }
   ],
   "source": [
    "k1 = 0.95\n",
    "k2 = 1.05\n",
    "\n",
    "av_gain = []\n",
    "for epoch in range(1000):\n",
    "    gain = []\n",
    "    for ind in random.sample(range(3650), 1600):\n",
    "        gain.append(runEpisode(ind, k1, k2))\n",
    "    g = np.array(gain)\n",
    "    av_gain.append(np.mean(g))\n",
    "    \n",
    "av = np.array(av_gain)\n",
    "print (np.mean(av), np.std(av))"
   ]
  },
  {
   "cell_type": "markdown",
   "metadata": {},
   "source": [
    "OK. The total return is slightly over 300 dollars on 10k investment for 2 years. Very nice, but where is the stock market premium over the safe investments in Treasury notes?"
   ]
  },
  {
   "cell_type": "markdown",
   "metadata": {},
   "source": [
    "Let's see what's the average return for the test set:"
   ]
  },
  {
   "cell_type": "code",
   "execution_count": 30,
   "metadata": {
    "collapsed": true
   },
   "outputs": [],
   "source": [
    "k1 = 0.95\n",
    "k2 = 1.05\n",
    "\n",
    "test_gain = []\n",
    "\n",
    "for i in range(3651, 3751):\n",
    "    test_gain.append(runEpisode(i, k1, k2))"
   ]
  },
  {
   "cell_type": "code",
   "execution_count": 31,
   "metadata": {},
   "outputs": [
    {
     "name": "stdout",
     "output_type": "stream",
     "text": [
      "486.46020000000055 409.9308557622373\n"
     ]
    }
   ],
   "source": [
    "tg = np.array(test_gain)\n",
    "print (np.mean(tg), np.std(tg))"
   ]
  },
  {
   "cell_type": "markdown",
   "metadata": {},
   "source": [
    "Interesting! almost 500 dollars on 10 k investment for two years..."
   ]
  },
  {
   "cell_type": "code",
   "execution_count": 33,
   "metadata": {},
   "outputs": [
    {
     "data": {
      "text/plain": [
       "(array([26.,  7., 24.,  7.,  2.,  8., 11.,  7.,  7.,  1.]),\n",
       " array([   0.   ,  140.832,  281.664,  422.496,  563.328,  704.16 ,\n",
       "         844.992,  985.824, 1126.656, 1267.488, 1408.32 ]),\n",
       " <a list of 10 Patch objects>)"
      ]
     },
     "execution_count": 33,
     "metadata": {},
     "output_type": "execute_result"
    },
    {
     "data": {
      "image/png": "[encoded data removed]",
      "text/plain": [
       "<matplotlib.figure.Figure at 0x2461a8a5208>"
      ]
     },
     "metadata": {},
     "output_type": "display_data"
    }
   ],
   "source": [
    "%matplotlib inline\n",
    "import matplotlib.pyplot as plt\n",
    "\n",
    "plt.hist(test_gain)"
   ]
  },
  {
   "cell_type": "code",
   "execution_count": null,
   "metadata": {
    "collapsed": true
   },
   "outputs": [],
   "source": []
  }
 ],
 "metadata": {
  "kernelspec": {
   "display_name": "Python 3",
   "language": "python",
   "name": "python3"
  },
  "language_info": {
   "codemirror_mode": {
    "name": "ipython",
    "version": 3
   },
   "file_extension": ".py",
   "mimetype": "text/x-python",
   "name": "python",
   "nbconvert_exporter": "python",
   "pygments_lexer": "ipython3",
   "version": "3.6.4"
  }
 },
 "nbformat": 4,
 "nbformat_minor": 2
}
