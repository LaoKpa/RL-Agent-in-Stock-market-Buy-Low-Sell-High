{
 "cells": [
  {
   "cell_type": "code",
   "execution_count": 1,
   "metadata": {
    "collapsed": true
   },
   "outputs": [],
   "source": [
    "# Read the data\n",
    "\n",
    "inFile = open(\"sp500.txt\", 'r')\n",
    "\n",
    "List = []\n",
    "for line in inFile:\n",
    "    List.append(line.replace(',', '.'))\n",
    "inFile.close()\n",
    "\n",
    "ListNum1 = []\n",
    "\n",
    "for ind in range(len(List)):\n",
    "    sss = List[ind]\n",
    "    ListNum1.append(float(sss))\n",
    "ListNum = ListNum1[::-1]\n",
    "price = ListNum[253:]"
   ]
  },
  {
   "cell_type": "code",
   "execution_count": 2,
   "metadata": {},
   "outputs": [
    {
     "data": {
      "text/plain": [
       "4258"
      ]
     },
     "execution_count": 2,
     "metadata": {},
     "output_type": "execute_result"
    }
   ],
   "source": [
    "len(price)"
   ]
  },
  {
   "cell_type": "code",
   "execution_count": 3,
   "metadata": {
    "collapsed": true
   },
   "outputs": [],
   "source": [
    "# Get medians\n",
    "\n",
    "inFile = open(\"median.txt\", 'r')\n",
    "\n",
    "List = []\n",
    "for line in inFile:\n",
    "    List.append(line.replace(',', '.'))\n",
    "inFile.close()\n",
    "\n",
    "median = []\n",
    "for ind in range(len(List)):\n",
    "    sss = List[ind]\n",
    "    median.append(float(sss))"
   ]
  },
  {
   "cell_type": "code",
   "execution_count": 4,
   "metadata": {
    "collapsed": true
   },
   "outputs": [],
   "source": [
    "# Get 1st quantiles\n",
    "\n",
    "inFile = open(\"quartile1st.txt\", 'r')\n",
    "\n",
    "List = []\n",
    "for line in inFile:\n",
    "    List.append(line.replace(',', '.'))\n",
    "inFile.close()\n",
    "\n",
    "qu1 = []\n",
    "for ind in range(len(List)):\n",
    "    sss = List[ind]\n",
    "    qu1.append(float(sss))"
   ]
  },
  {
   "cell_type": "code",
   "execution_count": 5,
   "metadata": {
    "collapsed": true
   },
   "outputs": [],
   "source": [
    "# Get 3rd quantiles\n",
    "\n",
    "inFile = open(\"quartile3rd.txt\", 'r')\n",
    "\n",
    "List = []\n",
    "for line in inFile:\n",
    "    List.append(line.replace(',', '.'))\n",
    "inFile.close()\n",
    "\n",
    "qu3 = []\n",
    "for ind in range(len(List)):\n",
    "    sss = List[ind]\n",
    "    qu3.append(float(sss))"
   ]
  },
  {
   "cell_type": "code",
   "execution_count": 8,
   "metadata": {
    "collapsed": true
   },
   "outputs": [],
   "source": [
    "import random\n",
    "\n",
    "# for a 2 year episode without taking into account the opportunity cost of the capital:\n",
    "\n",
    "def runEpisode(ind, p1, p2, p3, p4, p5, p6, price=price, median=median, qu1=qu1, qu3=qu3):\n",
    "    cash = 10000\n",
    "    flag = False\n",
    "    nshares = 0\n",
    "    fee = 9.99\n",
    "    nmax = 507\n",
    "    \n",
    "    for i in range(ind, (ind+nmax-1)):\n",
    "        if price[i] < median[i] - 0.1*(median[i] - qu1[i]) and flag == False:\n",
    "            # opp to buy\n",
    "            ratio = (median[i]-price[i])/(median[i]-qu1[i])\n",
    "            if ratio > 1:\n",
    "                p = 1\n",
    "            elif ratio > 0.7:\n",
    "                p = p1\n",
    "            elif ratio > 0.4:\n",
    "                p = p2\n",
    "            else: p = p3\n",
    "            action = random.choices(['buy', 'wait'], [p, 1-p])\n",
    "            if action[0] == 'buy':\n",
    "                nshares = ((cash-fee)/price[i])//1\n",
    "                cash = cash - nshares*price[i] - fee\n",
    "                if nshares:\n",
    "                    flag = True\n",
    "                    \n",
    "        elif price[i] > median[i] + 0.1*(qu3[i]-median[i]) and flag == True:\n",
    "            # opp to sell\n",
    "            ratio = (price[i]-median[i])/(qu3[i]-median[i])\n",
    "            if ratio > 1:\n",
    "                p = 1\n",
    "            elif ratio > 0.7:\n",
    "                p = p6\n",
    "            elif ratio > 0.4:\n",
    "                p = p5\n",
    "            else: p = p4\n",
    "            action = random.choices(['sell', 'wait'], [p, 1-p])\n",
    "            if action[0] == 'sell':\n",
    "                cash = cash + nshares*price[i] - fee\n",
    "                nshares = 0\n",
    "                flag = False\n",
    "                \n",
    "    if nshares:\n",
    "        cash = cash + nshares*price[ind+nmax-1] - fee\n",
    "    \n",
    "    return cash - 10000"
   ]
  },
  {
   "cell_type": "code",
   "execution_count": 9,
   "metadata": {},
   "outputs": [
    {
     "name": "stdout",
     "output_type": "stream",
     "text": [
      "686.5200000000004\n"
     ]
    }
   ],
   "source": [
    "ind = 1001\n",
    "p1 = 0.8\n",
    "p2 = 0.5\n",
    "p3 = 0.2\n",
    "p4 = 0.2\n",
    "p5 = 0.5\n",
    "p6 = 0.8\n",
    "\n",
    "print (runEpisode(ind, p1, p2, p3, p4, p5, p6))"
   ]
  },
  {
   "cell_type": "code",
   "execution_count": 11,
   "metadata": {
    "collapsed": true
   },
   "outputs": [],
   "source": [
    "import numpy as np"
   ]
  },
  {
   "cell_type": "code",
   "execution_count": 12,
   "metadata": {},
   "outputs": [
    {
     "name": "stdout",
     "output_type": "stream",
     "text": [
      "259.567725000001 1593.2723952218826\n"
     ]
    }
   ],
   "source": [
    "p1 = 0.8\n",
    "p2 = 0.5\n",
    "p3 = 0.2\n",
    "p4 = 0.2\n",
    "p5 = 0.5\n",
    "p6 = 0.8\n",
    "\n",
    "gain = []\n",
    "\n",
    "for ind in random.sample(range(3650), 1600):\n",
    "    gain.append(runEpisode(ind, p1, p2, p3, p4, p5, p6))\n",
    "    \n",
    "g = np.array(gain)\n",
    "print (np.mean(g), np.std(g))"
   ]
  },
  {
   "cell_type": "code",
   "execution_count": 13,
   "metadata": {},
   "outputs": [
    {
     "name": "stdout",
     "output_type": "stream",
     "text": [
      "274.495112500001 1569.2337664282968\n"
     ]
    }
   ],
   "source": [
    "p1 = 0.8\n",
    "p2 = 0.5\n",
    "p3 = 0.2\n",
    "p4 = 0.2\n",
    "p5 = 0.5\n",
    "p6 = 0.8\n",
    "\n",
    "gain = []\n",
    "\n",
    "for ind in random.sample(range(3650), 1600):\n",
    "    gain.append(runEpisode(ind, p1, p2, p3, p4, p5, p6))\n",
    "    \n",
    "g = np.array(gain)\n",
    "print (np.mean(g), np.std(g))"
   ]
  },
  {
   "cell_type": "code",
   "execution_count": 14,
   "metadata": {
    "collapsed": true
   },
   "outputs": [],
   "source": [
    "av_gain = []\n",
    "for epoch in range(100):\n",
    "    gain = []\n",
    "    for ind in random.sample(range(3650), 1600):\n",
    "        gain.append(runEpisode(ind, p1, p2, p3, p4, p5, p6))\n",
    "    g = np.array(gain)\n",
    "    av_gain.append(np.mean(g))"
   ]
  },
  {
   "cell_type": "code",
   "execution_count": 15,
   "metadata": {},
   "outputs": [
    {
     "name": "stdout",
     "output_type": "stream",
     "text": [
      "215.83901175000102 32.12382248156297\n"
     ]
    }
   ],
   "source": [
    "av = np.array(av_gain)\n",
    "print (np.mean(av), np.std(av))"
   ]
  },
  {
   "cell_type": "code",
   "execution_count": 16,
   "metadata": {},
   "outputs": [
    {
     "name": "stdout",
     "output_type": "stream",
     "text": [
      "219.3743488125011 32.223110754715954\n"
     ]
    }
   ],
   "source": [
    "p1 = 0.8\n",
    "p2 = 0.5\n",
    "p3 = 0.2\n",
    "p4 = 0.2\n",
    "p5 = 0.5\n",
    "p6 = 0.8\n",
    "\n",
    "av_gain = []\n",
    "for epoch in range(100):\n",
    "    gain = []\n",
    "    for ind in random.sample(range(3650), 1600):\n",
    "        gain.append(runEpisode(ind, p1, p2, p3, p4, p5, p6))\n",
    "    g = np.array(gain)\n",
    "    av_gain.append(np.mean(g))\n",
    "    \n",
    "av = np.array(av_gain)\n",
    "print (np.mean(av), np.std(av))"
   ]
  },
  {
   "cell_type": "code",
   "execution_count": 17,
   "metadata": {},
   "outputs": [
    {
     "name": "stdout",
     "output_type": "stream",
     "text": [
      "227.4406655625012 33.07310958324123\n"
     ]
    }
   ],
   "source": [
    "p1 = 0.8\n",
    "p2 = 0.5\n",
    "p3 = 0.3\n",
    "p4 = 0.3\n",
    "p5 = 0.5\n",
    "p6 = 0.8\n",
    "\n",
    "av_gain = []\n",
    "for epoch in range(100):\n",
    "    gain = []\n",
    "    for ind in random.sample(range(3650), 1600):\n",
    "        gain.append(runEpisode(ind, p1, p2, p3, p4, p5, p6))\n",
    "    g = np.array(gain)\n",
    "    av_gain.append(np.mean(g))\n",
    "    \n",
    "av = np.array(av_gain)\n",
    "print (np.mean(av), np.std(av))"
   ]
  },
  {
   "cell_type": "code",
   "execution_count": 18,
   "metadata": {},
   "outputs": [
    {
     "name": "stdout",
     "output_type": "stream",
     "text": [
      "224.70847318750128 32.5065962524983\n"
     ]
    }
   ],
   "source": [
    "p1 = 0.8\n",
    "p2 = 0.5\n",
    "p3 = 0.4\n",
    "p4 = 0.4\n",
    "p5 = 0.5\n",
    "p6 = 0.8\n",
    "\n",
    "av_gain = []\n",
    "for epoch in range(100):\n",
    "    gain = []\n",
    "    for ind in random.sample(range(3650), 1600):\n",
    "        gain.append(runEpisode(ind, p1, p2, p3, p4, p5, p6))\n",
    "    g = np.array(gain)\n",
    "    av_gain.append(np.mean(g))\n",
    "    \n",
    "av = np.array(av_gain)\n",
    "print (np.mean(av), np.std(av))"
   ]
  },
  {
   "cell_type": "code",
   "execution_count": 19,
   "metadata": {},
   "outputs": [
    {
     "name": "stdout",
     "output_type": "stream",
     "text": [
      "228.89496887500144 25.771761946286723\n"
     ]
    }
   ],
   "source": [
    "p1 = 0.8\n",
    "p2 = 0.55\n",
    "p3 = 0.5\n",
    "p4 = 0.5\n",
    "p5 = 0.55\n",
    "p6 = 0.8\n",
    "\n",
    "av_gain = []\n",
    "for epoch in range(100):\n",
    "    gain = []\n",
    "    for ind in random.sample(range(3650), 1600):\n",
    "        gain.append(runEpisode(ind, p1, p2, p3, p4, p5, p6))\n",
    "    g = np.array(gain)\n",
    "    av_gain.append(np.mean(g))\n",
    "    \n",
    "av = np.array(av_gain)\n",
    "print (np.mean(av), np.std(av))"
   ]
  },
  {
   "cell_type": "code",
   "execution_count": 20,
   "metadata": {},
   "outputs": [
    {
     "name": "stdout",
     "output_type": "stream",
     "text": [
      "220.71958325000148 26.760670644477994\n"
     ]
    }
   ],
   "source": [
    "p1 = 0.8\n",
    "p2 = 0.6\n",
    "p3 = 0.5\n",
    "p4 = 0.5\n",
    "p5 = 0.6\n",
    "p6 = 0.8\n",
    "\n",
    "av_gain = []\n",
    "for epoch in range(100):\n",
    "    gain = []\n",
    "    for ind in random.sample(range(3650), 1600):\n",
    "        gain.append(runEpisode(ind, p1, p2, p3, p4, p5, p6))\n",
    "    g = np.array(gain)\n",
    "    av_gain.append(np.mean(g))\n",
    "    \n",
    "av = np.array(av_gain)\n",
    "print (np.mean(av), np.std(av))"
   ]
  },
  {
   "cell_type": "code",
   "execution_count": 21,
   "metadata": {},
   "outputs": [
    {
     "name": "stdout",
     "output_type": "stream",
     "text": [
      "223.79875731250138 32.45210534082422\n"
     ]
    }
   ],
   "source": [
    "p1 = 0.8\n",
    "p2 = 0.6\n",
    "p3 = 0.45\n",
    "p4 = 0.45\n",
    "p5 = 0.6\n",
    "p6 = 0.8\n",
    "\n",
    "av_gain = []\n",
    "for epoch in range(100):\n",
    "    gain = []\n",
    "    for ind in random.sample(range(3650), 1600):\n",
    "        gain.append(runEpisode(ind, p1, p2, p3, p4, p5, p6))\n",
    "    g = np.array(gain)\n",
    "    av_gain.append(np.mean(g))\n",
    "    \n",
    "av = np.array(av_gain)\n",
    "print (np.mean(av), np.std(av))"
   ]
  },
  {
   "cell_type": "code",
   "execution_count": 22,
   "metadata": {},
   "outputs": [
    {
     "name": "stdout",
     "output_type": "stream",
     "text": [
      "228.2326347500014 31.85586972675531\n"
     ]
    }
   ],
   "source": [
    "p1 = 0.9\n",
    "p2 = 0.55\n",
    "p3 = 0.5\n",
    "p4 = 0.5\n",
    "p5 = 0.55\n",
    "p6 = 0.9\n",
    "\n",
    "av_gain = []\n",
    "for epoch in range(100):\n",
    "    gain = []\n",
    "    for ind in random.sample(range(3650), 1600):\n",
    "        gain.append(runEpisode(ind, p1, p2, p3, p4, p5, p6))\n",
    "    g = np.array(gain)\n",
    "    av_gain.append(np.mean(g))\n",
    "    \n",
    "av = np.array(av_gain)\n",
    "print (np.mean(av), np.std(av))"
   ]
  },
  {
   "cell_type": "code",
   "execution_count": 23,
   "metadata": {},
   "outputs": [
    {
     "name": "stdout",
     "output_type": "stream",
     "text": [
      "233.65920406250152 30.960273694538518\n"
     ]
    }
   ],
   "source": [
    "p1 = 0.9\n",
    "p2 = 0.75\n",
    "p3 = 0.5\n",
    "p4 = 0.5\n",
    "p5 = 0.75\n",
    "p6 = 0.9\n",
    "\n",
    "av_gain = []\n",
    "for epoch in range(100):\n",
    "    gain = []\n",
    "    for ind in random.sample(range(3650), 1600):\n",
    "        gain.append(runEpisode(ind, p1, p2, p3, p4, p5, p6))\n",
    "    g = np.array(gain)\n",
    "    av_gain.append(np.mean(g))\n",
    "    \n",
    "av = np.array(av_gain)\n",
    "print (np.mean(av), np.std(av))"
   ]
  },
  {
   "cell_type": "code",
   "execution_count": 24,
   "metadata": {},
   "outputs": [
    {
     "name": "stdout",
     "output_type": "stream",
     "text": [
      "236.1573777500015 28.37118549235443\n"
     ]
    }
   ],
   "source": [
    "p1 = 0.95\n",
    "p2 = 0.85\n",
    "p3 = 0.5\n",
    "p4 = 0.5\n",
    "p5 = 0.85\n",
    "p6 = 0.95\n",
    "\n",
    "av_gain = []\n",
    "for epoch in range(100):\n",
    "    gain = []\n",
    "    for ind in random.sample(range(3650), 1600):\n",
    "        gain.append(runEpisode(ind, p1, p2, p3, p4, p5, p6))\n",
    "    g = np.array(gain)\n",
    "    av_gain.append(np.mean(g))\n",
    "    \n",
    "av = np.array(av_gain)\n",
    "print (np.mean(av), np.std(av))"
   ]
  },
  {
   "cell_type": "code",
   "execution_count": 25,
   "metadata": {},
   "outputs": [
    {
     "name": "stdout",
     "output_type": "stream",
     "text": [
      "231.28515150000152 31.87263936944332\n"
     ]
    }
   ],
   "source": [
    "p1 = 0.95\n",
    "p2 = 0.9\n",
    "p3 = 0.5\n",
    "p4 = 0.5\n",
    "p5 = 0.9\n",
    "p6 = 0.95\n",
    "\n",
    "av_gain = []\n",
    "for epoch in range(100):\n",
    "    gain = []\n",
    "    for ind in random.sample(range(3650), 1600):\n",
    "        gain.append(runEpisode(ind, p1, p2, p3, p4, p5, p6))\n",
    "    g = np.array(gain)\n",
    "    av_gain.append(np.mean(g))\n",
    "    \n",
    "av = np.array(av_gain)\n",
    "print (np.mean(av), np.std(av))"
   ]
  },
  {
   "cell_type": "code",
   "execution_count": 26,
   "metadata": {},
   "outputs": [
    {
     "name": "stdout",
     "output_type": "stream",
     "text": [
      "228.79756550000167 32.5154701090926\n"
     ]
    }
   ],
   "source": [
    "p1 = 0.95\n",
    "p2 = 0.85\n",
    "p3 = 0.6\n",
    "p4 = 0.6\n",
    "p5 = 0.85\n",
    "p6 = 0.95\n",
    "\n",
    "av_gain = []\n",
    "for epoch in range(100):\n",
    "    gain = []\n",
    "    for ind in random.sample(range(3650), 1600):\n",
    "        gain.append(runEpisode(ind, p1, p2, p3, p4, p5, p6))\n",
    "    g = np.array(gain)\n",
    "    av_gain.append(np.mean(g))\n",
    "    \n",
    "av = np.array(av_gain)\n",
    "print (np.mean(av), np.std(av))"
   ]
  },
  {
   "cell_type": "code",
   "execution_count": 27,
   "metadata": {},
   "outputs": [
    {
     "name": "stdout",
     "output_type": "stream",
     "text": [
      "229.80022850000168 30.200856056303433\n"
     ]
    }
   ],
   "source": [
    "p1 = 0.95\n",
    "p2 = 0.85\n",
    "p3 = 0.7\n",
    "p4 = 0.7\n",
    "p5 = 0.85\n",
    "p6 = 0.95\n",
    "\n",
    "av_gain = []\n",
    "for epoch in range(100):\n",
    "    gain = []\n",
    "    for ind in random.sample(range(3650), 1600):\n",
    "        gain.append(runEpisode(ind, p1, p2, p3, p4, p5, p6))\n",
    "    g = np.array(gain)\n",
    "    av_gain.append(np.mean(g))\n",
    "    \n",
    "av = np.array(av_gain)\n",
    "print (np.mean(av), np.std(av))"
   ]
  },
  {
   "cell_type": "code",
   "execution_count": 28,
   "metadata": {},
   "outputs": [
    {
     "name": "stdout",
     "output_type": "stream",
     "text": [
      "229.82442062500166 32.49905464795847\n"
     ]
    }
   ],
   "source": [
    "p1 = 0.95\n",
    "p2 = 0.85\n",
    "p3 = 0.75\n",
    "p4 = 0.75\n",
    "p5 = 0.85\n",
    "p6 = 0.95\n",
    "\n",
    "av_gain = []\n",
    "for epoch in range(100):\n",
    "    gain = []\n",
    "    for ind in random.sample(range(3650), 1600):\n",
    "        gain.append(runEpisode(ind, p1, p2, p3, p4, p5, p6))\n",
    "    g = np.array(gain)\n",
    "    av_gain.append(np.mean(g))\n",
    "    \n",
    "av = np.array(av_gain)\n",
    "print (np.mean(av), np.std(av))"
   ]
  },
  {
   "cell_type": "code",
   "execution_count": 29,
   "metadata": {},
   "outputs": [
    {
     "name": "stdout",
     "output_type": "stream",
     "text": [
      "234.28135812500147 29.305770711313173\n"
     ]
    }
   ],
   "source": [
    "p1 = 0.95\n",
    "p2 = 0.85\n",
    "p3 = 0.5\n",
    "p4 = 0.5\n",
    "p5 = 0.85\n",
    "p6 = 0.95\n",
    "\n",
    "av_gain = []\n",
    "for epoch in range(100):\n",
    "    gain = []\n",
    "    for ind in random.sample(range(3650), 1600):\n",
    "        gain.append(runEpisode(ind, p1, p2, p3, p4, p5, p6))\n",
    "    g = np.array(gain)\n",
    "    av_gain.append(np.mean(g))\n",
    "    \n",
    "av = np.array(av_gain)\n",
    "print (np.mean(av), np.std(av))"
   ]
  },
  {
   "cell_type": "code",
   "execution_count": 30,
   "metadata": {},
   "outputs": [
    {
     "name": "stdout",
     "output_type": "stream",
     "text": [
      "231.68985462500146 30.633763629468167\n"
     ]
    }
   ],
   "source": [
    "p1 = 0.95\n",
    "p2 = 0.85\n",
    "p3 = 0.45\n",
    "p4 = 0.45\n",
    "p5 = 0.85\n",
    "p6 = 0.95\n",
    "\n",
    "av_gain = []\n",
    "for epoch in range(100):\n",
    "    gain = []\n",
    "    for ind in random.sample(range(3650), 1600):\n",
    "        gain.append(runEpisode(ind, p1, p2, p3, p4, p5, p6))\n",
    "    g = np.array(gain)\n",
    "    av_gain.append(np.mean(g))\n",
    "    \n",
    "av = np.array(av_gain)\n",
    "print (np.mean(av), np.std(av))"
   ]
  },
  {
   "cell_type": "code",
   "execution_count": 31,
   "metadata": {},
   "outputs": [
    {
     "name": "stdout",
     "output_type": "stream",
     "text": [
      "231.7952705687515 28.95872692859557\n"
     ]
    }
   ],
   "source": [
    "p1 = 0.95\n",
    "p2 = 0.8\n",
    "p3 = 0.5\n",
    "p4 = 0.5\n",
    "p5 = 0.8\n",
    "p6 = 0.95\n",
    "\n",
    "av_gain = []\n",
    "for epoch in range(1000):\n",
    "    gain = []\n",
    "    for ind in random.sample(range(3650), 1600):\n",
    "        gain.append(runEpisode(ind, p1, p2, p3, p4, p5, p6))\n",
    "    g = np.array(gain)\n",
    "    av_gain.append(np.mean(g))\n",
    "    \n",
    "av = np.array(av_gain)\n",
    "print (np.mean(av), np.std(av))"
   ]
  },
  {
   "cell_type": "code",
   "execution_count": 32,
   "metadata": {},
   "outputs": [
    {
     "name": "stdout",
     "output_type": "stream",
     "text": [
      "231.3127584000015 30.63491543011543\n"
     ]
    }
   ],
   "source": [
    "p1 = 0.95\n",
    "p2 = 0.85\n",
    "p3 = 0.5\n",
    "p4 = 0.5\n",
    "p5 = 0.85\n",
    "p6 = 0.95\n",
    "\n",
    "av_gain = []\n",
    "for epoch in range(1000):\n",
    "    gain = []\n",
    "    for ind in random.sample(range(3650), 1600):\n",
    "        gain.append(runEpisode(ind, p1, p2, p3, p4, p5, p6))\n",
    "    g = np.array(gain)\n",
    "    av_gain.append(np.mean(g))\n",
    "    \n",
    "av = np.array(av_gain)\n",
    "print (np.mean(av), np.std(av))"
   ]
  },
  {
   "cell_type": "code",
   "execution_count": 33,
   "metadata": {},
   "outputs": [
    {
     "name": "stdout",
     "output_type": "stream",
     "text": [
      "238.36152998125073 31.319055846114644\n"
     ]
    }
   ],
   "source": [
    "p1 = 0\n",
    "p2 = 0\n",
    "p3 = 0\n",
    "p4 = 0\n",
    "p5 = 0\n",
    "p6 = 0\n",
    "\n",
    "\n",
    "av_gain = []\n",
    "for epoch in range(1000):\n",
    "    gain = []\n",
    "    for ind in random.sample(range(3650), 1600):\n",
    "        gain.append(runEpisode(ind, p1, p2, p3, p4, p5, p6))\n",
    "    g = np.array(gain)\n",
    "    av_gain.append(np.mean(g))\n",
    "    \n",
    "av = np.array(av_gain)\n",
    "print (np.mean(av), np.std(av))"
   ]
  },
  {
   "cell_type": "code",
   "execution_count": 34,
   "metadata": {},
   "outputs": [
    {
     "name": "stdout",
     "output_type": "stream",
     "text": [
      "235.39189225000152 30.763415501331025\n"
     ]
    }
   ],
   "source": [
    "p1 = 0.95\n",
    "p2 = 0.85\n",
    "p3 = 0.5\n",
    "p4 = 0.5\n",
    "p5 = 0.85\n",
    "p6 = 0.95\n",
    "\n",
    "av_gain = []\n",
    "for epoch in range(100):\n",
    "    gain = []\n",
    "    for ind in random.sample(range(3650), 1600):\n",
    "        gain.append(runEpisode(ind, p1, p2, p3, p4, p5, p6))\n",
    "    g = np.array(gain)\n",
    "    av_gain.append(np.mean(g))\n",
    "    \n",
    "av = np.array(av_gain)\n",
    "print (np.mean(av), np.std(av))"
   ]
  },
  {
   "cell_type": "code",
   "execution_count": 35,
   "metadata": {},
   "outputs": [
    {
     "name": "stdout",
     "output_type": "stream",
     "text": [
      "186.8888108625001 31.206680881212108\n"
     ]
    }
   ],
   "source": [
    "p1 = 1.0\n",
    "p2 = 0\n",
    "p3 = 0\n",
    "p4 = 0\n",
    "p5 = 0\n",
    "p6 = 1.0\n",
    "\n",
    "\n",
    "av_gain = []\n",
    "for epoch in range(1000):\n",
    "    gain = []\n",
    "    for ind in random.sample(range(3650), 1600):\n",
    "        gain.append(runEpisode(ind, p1, p2, p3, p4, p5, p6))\n",
    "    g = np.array(gain)\n",
    "    av_gain.append(np.mean(g))\n",
    "    \n",
    "av = np.array(av_gain)\n",
    "print (np.mean(av), np.std(av))"
   ]
  },
  {
   "cell_type": "code",
   "execution_count": 36,
   "metadata": {},
   "outputs": [
    {
     "name": "stdout",
     "output_type": "stream",
     "text": [
      "238.3922229437507 32.624086212724684\n"
     ]
    }
   ],
   "source": [
    "p1 = 0\n",
    "p2 = 0\n",
    "p3 = 0\n",
    "p4 = 0\n",
    "p5 = 0\n",
    "p6 = 0\n",
    "\n",
    "\n",
    "av_gain = []\n",
    "for epoch in range(1000):\n",
    "    gain = []\n",
    "    for ind in random.sample(range(3650), 1600):\n",
    "        gain.append(runEpisode(ind, p1, p2, p3, p4, p5, p6))\n",
    "    g = np.array(gain)\n",
    "    av_gain.append(np.mean(g))\n",
    "    \n",
    "av = np.array(av_gain)\n",
    "print (np.mean(av), np.std(av))"
   ]
  },
  {
   "cell_type": "code",
   "execution_count": 37,
   "metadata": {},
   "outputs": [
    {
     "name": "stdout",
     "output_type": "stream",
     "text": [
      "175.61744824375046 31.49296341977726\n"
     ]
    }
   ],
   "source": [
    "p1 = 0.5\n",
    "p2 = 0\n",
    "p3 = 0\n",
    "p4 = 0\n",
    "p5 = 0\n",
    "p6 = 0.5\n",
    "\n",
    "\n",
    "av_gain = []\n",
    "for epoch in range(1000):\n",
    "    gain = []\n",
    "    for ind in random.sample(range(3650), 1600):\n",
    "        gain.append(runEpisode(ind, p1, p2, p3, p4, p5, p6))\n",
    "    g = np.array(gain)\n",
    "    av_gain.append(np.mean(g))\n",
    "    \n",
    "av = np.array(av_gain)\n",
    "print (np.mean(av), np.std(av))"
   ]
  },
  {
   "cell_type": "markdown",
   "metadata": {
    "collapsed": true
   },
   "source": [
    "In this notebook the stochastic policy seems to turn into deterministic to achieve the maximum return as well!"
   ]
  },
  {
   "cell_type": "code",
   "execution_count": null,
   "metadata": {
    "collapsed": true
   },
   "outputs": [],
   "source": []
  }
 ],
 "metadata": {
  "kernelspec": {
   "display_name": "Python 3",
   "language": "python",
   "name": "python3"
  },
  "language_info": {
   "codemirror_mode": {
    "name": "ipython",
    "version": 3
   },
   "file_extension": ".py",
   "mimetype": "text/x-python",
   "name": "python",
   "nbconvert_exporter": "python",
   "pygments_lexer": "ipython3",
   "version": "3.6.4"
  }
 },
 "nbformat": 4,
 "nbformat_minor": 2
}
