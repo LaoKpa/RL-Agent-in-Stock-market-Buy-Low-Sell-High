{
 "cells": [
  {
   "cell_type": "code",
   "execution_count": 1,
   "metadata": {
    "collapsed": true
   },
   "outputs": [],
   "source": [
    "# Read the data\n",
    "\n",
    "inFile = open(\"sp500.txt\", 'r')\n",
    "\n",
    "List = []\n",
    "for line in inFile:\n",
    "    List.append(line.replace(',', '.'))\n",
    "inFile.close()\n",
    "\n",
    "ListNum1 = []\n",
    "\n",
    "for ind in range(len(List)):\n",
    "    sss = List[ind]\n",
    "    ListNum1.append(float(sss))\n",
    "ListNum = ListNum1[::-1]\n",
    "price = ListNum[253:]"
   ]
  },
  {
   "cell_type": "code",
   "execution_count": 2,
   "metadata": {
    "collapsed": true
   },
   "outputs": [],
   "source": [
    "# Get medians\n",
    "\n",
    "inFile = open(\"median.txt\", 'r')\n",
    "\n",
    "List = []\n",
    "for line in inFile:\n",
    "    List.append(line.replace(',', '.'))\n",
    "inFile.close()\n",
    "\n",
    "median = []\n",
    "for ind in range(len(List)):\n",
    "    sss = List[ind]\n",
    "    median.append(float(sss))"
   ]
  },
  {
   "cell_type": "code",
   "execution_count": 3,
   "metadata": {
    "collapsed": true
   },
   "outputs": [],
   "source": [
    "# Get 1st quantiles\n",
    "\n",
    "inFile = open(\"quartile1st.txt\", 'r')\n",
    "\n",
    "List = []\n",
    "for line in inFile:\n",
    "    List.append(line.replace(',', '.'))\n",
    "inFile.close()\n",
    "\n",
    "qu1 = []\n",
    "for ind in range(len(List)):\n",
    "    sss = List[ind]\n",
    "    qu1.append(float(sss))"
   ]
  },
  {
   "cell_type": "code",
   "execution_count": 4,
   "metadata": {
    "collapsed": true
   },
   "outputs": [],
   "source": [
    "# Get 3rd quantiles\n",
    "\n",
    "inFile = open(\"quartile3rd.txt\", 'r')\n",
    "\n",
    "List = []\n",
    "for line in inFile:\n",
    "    List.append(line.replace(',', '.'))\n",
    "inFile.close()\n",
    "\n",
    "qu3 = []\n",
    "for ind in range(len(List)):\n",
    "    sss = List[ind]\n",
    "    qu3.append(float(sss))"
   ]
  },
  {
   "cell_type": "markdown",
   "metadata": {
    "collapsed": true
   },
   "source": [
    "As usual, I downloaded all three quantiles for SP500 ETF issued by iShares calculated for the previous one year period. As two previous attempts (MC1 and MC2) produced disappointingly low returns (compared to 2 year Treasury notes) I need to try a slightly more sophisticated strategy. MC1 and MC2, in effect, made a bet if the price is good. The whole sum availabe was invested or the whole block of ETF shares was sold. In fact, the Agent could buy several shares, then if the price moves lower, buy some more shares. Of course, too many purchases are puniched by the fee of 9.99 USD (brokerage fee). So the action space is discrete but with a pretty large number of options."
   ]
  },
  {
   "cell_type": "markdown",
   "metadata": {
    "collapsed": true
   },
   "source": [
    "I want to investigate a strategy - invest (approximately) half of the money if the price seems good (with probability p1), invest the rest of the money if the price goes down by k1 factor. If the Agent is fully invested, it can sell half of its shares if the price high enough (with probability p2) and sell all the rest if the price goes up even further (k2 times). In the intermediate state (\"half-cash half shares\") the Agent either sells all its shares or invest (almost) all its money."
   ]
  },
  {
   "cell_type": "markdown",
   "metadata": {
    "collapsed": true
   },
   "source": [
    "So The Agent starts in state S1 - \"all cash\", moves to state S2 (\"half cah - half money\") with probability p1 or moves to State S3 (\"fully invested\", very little money is left) with probability 1-p1. Similarly it moves from state S3 to S2 with probabilty p2 and to state S1 with probability 1-p1. This hapens when the 1st or 3rd quantile is reached. (Buy low - sell high). If the Agent is in state S2 and can get a better price (Buy even lower and sell even higher) it acts with 100% probability."
   ]
  },
  {
   "cell_type": "code",
   "execution_count": 6,
   "metadata": {
    "collapsed": true
   },
   "outputs": [],
   "source": [
    "import random\n",
    "import math"
   ]
  },
  {
   "cell_type": "code",
   "execution_count": 25,
   "metadata": {
    "collapsed": true
   },
   "outputs": [],
   "source": [
    "def runEpisode1(ind, p1, p2, k1=0.95, k2=1.05, price=price, median=median, qu1=qu1, qu3=qu3):\n",
    "    cash = 10000\n",
    "    flag = 0 # 0 is state S1, 1 is state S2, 2 is state S3\n",
    "    nshares = 0\n",
    "    fee = 9.99\n",
    "    nmax = 507\n",
    "    \n",
    "    for i in range(ind, (ind+nmax-1)):\n",
    "        if price[i] < qu1[i]:\n",
    "            # Buy!\n",
    "            if flag == 0:\n",
    "                action = random.choices(['all', 'half'], [1-p1, p1]) # invest all the money or half the money\n",
    "                if action[0] == 'all':\n",
    "                    nshares = ((cash-fee)/price[i])//1\n",
    "                    cash = cash - nshares*price[i] - fee\n",
    "                    if nshares: flag = 2\n",
    "                else:\n",
    "                    nshares = math.ceil((0.5*cash)/price[i])\n",
    "                    cash = cash - nshares*price[i] - fee\n",
    "                    if nshares:\n",
    "                        flag = 1\n",
    "            elif flag == 1:\n",
    "                if price[i] < k1*qu1[i]:\n",
    "                    n = ((cash-fee)/price[i])//1\n",
    "                    nshares += n\n",
    "                    cash = cash - n*price[i] - fee\n",
    "                    if n: flag = 2\n",
    "        elif price[i] > qu3[i]:\n",
    "            # Sell!\n",
    "            if flag == 2:\n",
    "                action = random.choices(['all', 'half'], [1-p2, p2]) # sell all the shares or half of them\n",
    "                if action[0] == 'all':\n",
    "                    cash = cash + nshares*price[i] - fee\n",
    "                    nshares = 0\n",
    "                    flag = 0\n",
    "                else:\n",
    "                    n = math.ceil(0.5*nshares)\n",
    "                    cash = cash + n*price[i] - fee\n",
    "                    nshares -= n\n",
    "                    if nshares:\n",
    "                        flag = 1\n",
    "                    else: flag = 0\n",
    "            elif flag == 1:\n",
    "                if price[i] > k2*qu3[i]:\n",
    "                    cash = cash + nshares*price[i] - fee\n",
    "                    nshares = 0\n",
    "                    flag = 0\n",
    "                    \n",
    "    if nshares:\n",
    "        cash = cash + nshares*price[ind+nmax-1] - fee\n",
    "    \n",
    "    return cash - 10000"
   ]
  },
  {
   "cell_type": "code",
   "execution_count": 21,
   "metadata": {
    "collapsed": true
   },
   "outputs": [],
   "source": [
    "import numpy as np"
   ]
  },
  {
   "cell_type": "markdown",
   "metadata": {},
   "source": [
    "Does it work at all? In the next two cells I see how large the variance is!"
   ]
  },
  {
   "cell_type": "code",
   "execution_count": 26,
   "metadata": {},
   "outputs": [
    {
     "name": "stdout",
     "output_type": "stream",
     "text": [
      "279.0142687500007 1685.1970521738226\n"
     ]
    }
   ],
   "source": [
    "p1 = 0.5\n",
    "p2 = 0.5\n",
    "\n",
    "gain = []\n",
    "\n",
    "for ind in random.sample(range(3650), 1600):\n",
    "    gain.append(runEpisode1(ind, p1, p2))\n",
    "    \n",
    "g = np.array(gain)\n",
    "print (np.mean(g), np.std(g))"
   ]
  },
  {
   "cell_type": "code",
   "execution_count": 27,
   "metadata": {},
   "outputs": [
    {
     "name": "stdout",
     "output_type": "stream",
     "text": [
      "252.0261750000006 1743.3193963741255\n"
     ]
    }
   ],
   "source": [
    "p1 = 0.5\n",
    "p2 = 0.5\n",
    "\n",
    "gain = []\n",
    "\n",
    "for ind in random.sample(range(3650), 1600):\n",
    "    gain.append(runEpisode1(ind, p1, p2))\n",
    "    \n",
    "g = np.array(gain)\n",
    "print (np.mean(g), np.std(g))"
   ]
  },
  {
   "cell_type": "code",
   "execution_count": 30,
   "metadata": {},
   "outputs": [
    {
     "name": "stdout",
     "output_type": "stream",
     "text": [
      "250.20940837500072 30.68015416205089\n"
     ]
    }
   ],
   "source": [
    "p1 = 0.5\n",
    "p2 = 0.5\n",
    "\n",
    "av_gain = []\n",
    "for epoch in range(100):\n",
    "    gain = []\n",
    "    for ind in random.sample(range(3650), 1600):\n",
    "        gain.append(runEpisode1(ind, p1, p2))\n",
    "    g = np.array(gain)\n",
    "    av_gain.append(np.mean(g))\n",
    "    \n",
    "av = np.array(av_gain)\n",
    "print (np.mean(av), np.std(av))"
   ]
  },
  {
   "cell_type": "code",
   "execution_count": 31,
   "metadata": {},
   "outputs": [
    {
     "name": "stdout",
     "output_type": "stream",
     "text": [
      "238.40488162500068 31.519784060961786\n"
     ]
    }
   ],
   "source": [
    "p1 = 0.75\n",
    "p2 = 0.75\n",
    "\n",
    "av_gain = []\n",
    "for epoch in range(100):\n",
    "    gain = []\n",
    "    for ind in random.sample(range(3650), 1600):\n",
    "        gain.append(runEpisode1(ind, p1, p2))\n",
    "    g = np.array(gain)\n",
    "    av_gain.append(np.mean(g))\n",
    "    \n",
    "av = np.array(av_gain)\n",
    "print (np.mean(av), np.std(av))"
   ]
  },
  {
   "cell_type": "code",
   "execution_count": 32,
   "metadata": {},
   "outputs": [
    {
     "name": "stdout",
     "output_type": "stream",
     "text": [
      "233.16205325000072 30.60466876305953\n"
     ]
    }
   ],
   "source": [
    "p1 = 1.0\n",
    "p2 = 1.0\n",
    "\n",
    "av_gain = []\n",
    "for epoch in range(100):\n",
    "    gain = []\n",
    "    for ind in random.sample(range(3650), 1600):\n",
    "        gain.append(runEpisode1(ind, p1, p2))\n",
    "    g = np.array(gain)\n",
    "    av_gain.append(np.mean(g))\n",
    "    \n",
    "av = np.array(av_gain)\n",
    "print (np.mean(av), np.std(av))"
   ]
  },
  {
   "cell_type": "code",
   "execution_count": 33,
   "metadata": {},
   "outputs": [
    {
     "name": "stdout",
     "output_type": "stream",
     "text": [
      "254.5070042500007 32.867445103183265\n"
     ]
    }
   ],
   "source": [
    "p1 = 0.25\n",
    "p2 = 0.25\n",
    "\n",
    "av_gain = []\n",
    "for epoch in range(100):\n",
    "    gain = []\n",
    "    for ind in random.sample(range(3650), 1600):\n",
    "        gain.append(runEpisode1(ind, p1, p2))\n",
    "    g = np.array(gain)\n",
    "    av_gain.append(np.mean(g))\n",
    "    \n",
    "av = np.array(av_gain)\n",
    "print (np.mean(av), np.std(av))"
   ]
  },
  {
   "cell_type": "code",
   "execution_count": 34,
   "metadata": {},
   "outputs": [
    {
     "name": "stdout",
     "output_type": "stream",
     "text": [
      "237.2792319375007 30.69901347185957\n"
     ]
    }
   ],
   "source": [
    "p1 = 0\n",
    "p2 = 0\n",
    "\n",
    "av_gain = []\n",
    "for epoch in range(100):\n",
    "    gain = []\n",
    "    for ind in random.sample(range(3650), 1600):\n",
    "        gain.append(runEpisode1(ind, p1, p2))\n",
    "    g = np.array(gain)\n",
    "    av_gain.append(np.mean(g))\n",
    "    \n",
    "av = np.array(av_gain)\n",
    "print (np.mean(av), np.std(av))"
   ]
  },
  {
   "cell_type": "code",
   "execution_count": 35,
   "metadata": {},
   "outputs": [
    {
     "name": "stdout",
     "output_type": "stream",
     "text": [
      "230.89570050000074 33.44830967817832\n"
     ]
    }
   ],
   "source": [
    "p1 = 0\n",
    "p2 = 0\n",
    "\n",
    "av_gain = []\n",
    "for epoch in range(100):\n",
    "    gain = []\n",
    "    for ind in random.sample(range(3650), 1600):\n",
    "        gain.append(runEpisode1(ind, p1, p2))\n",
    "    g = np.array(gain)\n",
    "    av_gain.append(np.mean(g))\n",
    "    \n",
    "av = np.array(av_gain)\n",
    "print (np.mean(av), np.std(av))"
   ]
  },
  {
   "cell_type": "code",
   "execution_count": 36,
   "metadata": {},
   "outputs": [
    {
     "name": "stdout",
     "output_type": "stream",
     "text": [
      "248.91529168750068 33.71207843745589\n"
     ]
    }
   ],
   "source": [
    "p1 = 0.1\n",
    "p2 = 0.1\n",
    "\n",
    "av_gain = []\n",
    "for epoch in range(100):\n",
    "    gain = []\n",
    "    for ind in random.sample(range(3650), 1600):\n",
    "        gain.append(runEpisode1(ind, p1, p2))\n",
    "    g = np.array(gain)\n",
    "    av_gain.append(np.mean(g))\n",
    "    \n",
    "av = np.array(av_gain)\n",
    "print (np.mean(av), np.std(av))"
   ]
  },
  {
   "cell_type": "code",
   "execution_count": 37,
   "metadata": {},
   "outputs": [
    {
     "name": "stdout",
     "output_type": "stream",
     "text": [
      "249.27792518750067 33.40868726083206\n"
     ]
    }
   ],
   "source": [
    "p1 = 0.2\n",
    "p2 = 0.2\n",
    "\n",
    "av_gain = []\n",
    "for epoch in range(100):\n",
    "    gain = []\n",
    "    for ind in random.sample(range(3650), 1600):\n",
    "        gain.append(runEpisode1(ind, p1, p2))\n",
    "    g = np.array(gain)\n",
    "    av_gain.append(np.mean(g))\n",
    "    \n",
    "av = np.array(av_gain)\n",
    "print (np.mean(av), np.std(av))"
   ]
  },
  {
   "cell_type": "code",
   "execution_count": 38,
   "metadata": {},
   "outputs": [
    {
     "name": "stdout",
     "output_type": "stream",
     "text": [
      "253.12555056250065 30.576306168311262\n"
     ]
    }
   ],
   "source": [
    "p1 = 0.3\n",
    "p2 = 0.3\n",
    "\n",
    "av_gain = []\n",
    "for epoch in range(100):\n",
    "    gain = []\n",
    "    for ind in random.sample(range(3650), 1600):\n",
    "        gain.append(runEpisode1(ind, p1, p2))\n",
    "    g = np.array(gain)\n",
    "    av_gain.append(np.mean(g))\n",
    "    \n",
    "av = np.array(av_gain)\n",
    "print (np.mean(av), np.std(av))"
   ]
  },
  {
   "cell_type": "code",
   "execution_count": 39,
   "metadata": {},
   "outputs": [
    {
     "name": "stdout",
     "output_type": "stream",
     "text": [
      "246.37424218750067 30.798600878590975\n"
     ]
    }
   ],
   "source": [
    "p1 = 0.4\n",
    "p2 = 0.4\n",
    "\n",
    "av_gain = []\n",
    "for epoch in range(100):\n",
    "    gain = []\n",
    "    for ind in random.sample(range(3650), 1600):\n",
    "        gain.append(runEpisode1(ind, p1, p2))\n",
    "    g = np.array(gain)\n",
    "    av_gain.append(np.mean(g))\n",
    "    \n",
    "av = np.array(av_gain)\n",
    "print (np.mean(av), np.std(av))"
   ]
  },
  {
   "cell_type": "code",
   "execution_count": 40,
   "metadata": {},
   "outputs": [
    {
     "name": "stdout",
     "output_type": "stream",
     "text": [
      "249.11536862500066 34.45484946430992\n"
     ]
    }
   ],
   "source": [
    "p1 = 0.35\n",
    "p2 = 0.35\n",
    "\n",
    "av_gain = []\n",
    "for epoch in range(100):\n",
    "    gain = []\n",
    "    for ind in random.sample(range(3650), 1600):\n",
    "        gain.append(runEpisode1(ind, p1, p2))\n",
    "    g = np.array(gain)\n",
    "    av_gain.append(np.mean(g))\n",
    "    \n",
    "av = np.array(av_gain)\n",
    "print (np.mean(av), np.std(av))"
   ]
  },
  {
   "cell_type": "code",
   "execution_count": 41,
   "metadata": {},
   "outputs": [
    {
     "name": "stdout",
     "output_type": "stream",
     "text": [
      "255.94499412500068 28.1422889367632\n"
     ]
    }
   ],
   "source": [
    "p1 = 0.3\n",
    "p2 = 0.3\n",
    "\n",
    "av_gain = []\n",
    "for epoch in range(100):\n",
    "    gain = []\n",
    "    for ind in random.sample(range(3650), 1600):\n",
    "        gain.append(runEpisode1(ind, p1, p2))\n",
    "    g = np.array(gain)\n",
    "    av_gain.append(np.mean(g))\n",
    "    \n",
    "av = np.array(av_gain)\n",
    "print (np.mean(av), np.std(av))"
   ]
  },
  {
   "cell_type": "code",
   "execution_count": 42,
   "metadata": {},
   "outputs": [
    {
     "name": "stdout",
     "output_type": "stream",
     "text": [
      "257.0711854375007 32.00350624293889\n"
     ]
    }
   ],
   "source": [
    "p1 = 0.25\n",
    "p2 = 0.25\n",
    "\n",
    "av_gain = []\n",
    "for epoch in range(100):\n",
    "    gain = []\n",
    "    for ind in random.sample(range(3650), 1600):\n",
    "        gain.append(runEpisode1(ind, p1, p2))\n",
    "    g = np.array(gain)\n",
    "    av_gain.append(np.mean(g))\n",
    "    \n",
    "av = np.array(av_gain)\n",
    "print (np.mean(av), np.std(av))"
   ]
  },
  {
   "cell_type": "code",
   "execution_count": 43,
   "metadata": {},
   "outputs": [
    {
     "name": "stdout",
     "output_type": "stream",
     "text": [
      "252.12323412500072 38.60135761520104\n"
     ]
    }
   ],
   "source": [
    "p1 = 0.25\n",
    "p2 = 0.25\n",
    "\n",
    "av_gain = []\n",
    "for epoch in range(100):\n",
    "    gain = []\n",
    "    for ind in random.sample(range(3650), 1600):\n",
    "        gain.append(runEpisode1(ind, p1, p2))\n",
    "    g = np.array(gain)\n",
    "    av_gain.append(np.mean(g))\n",
    "    \n",
    "av = np.array(av_gain)\n",
    "print (np.mean(av), np.std(av))"
   ]
  },
  {
   "cell_type": "markdown",
   "metadata": {},
   "source": [
    "This seems the best average return I could see so far with default values of k1 and k2. Maybe k1 and k2 could improve the result?"
   ]
  },
  {
   "cell_type": "code",
   "execution_count": 44,
   "metadata": {},
   "outputs": [
    {
     "name": "stdout",
     "output_type": "stream",
     "text": [
      "263.89147337500066 34.40171909621504\n"
     ]
    }
   ],
   "source": [
    "p1 = 0.25\n",
    "p2 = 0.25\n",
    "\n",
    "av_gain = []\n",
    "for epoch in range(100):\n",
    "    gain = []\n",
    "    for ind in random.sample(range(3650), 1600):\n",
    "        gain.append(runEpisode1(ind, p1, p2))\n",
    "    g = np.array(gain)\n",
    "    av_gain.append(np.mean(g))\n",
    "    \n",
    "av = np.array(av_gain)\n",
    "print (np.mean(av), np.std(av))"
   ]
  },
  {
   "cell_type": "code",
   "execution_count": 45,
   "metadata": {},
   "outputs": [
    {
     "name": "stdout",
     "output_type": "stream",
     "text": [
      "249.4876794375007 30.354005582918568\n"
     ]
    }
   ],
   "source": [
    "p1 = 0.25\n",
    "p2 = 0.25\n",
    "\n",
    "av_gain = []\n",
    "for epoch in range(100):\n",
    "    gain = []\n",
    "    for ind in random.sample(range(3650), 1600):\n",
    "        gain.append(runEpisode1(ind, p1, p2))\n",
    "    g = np.array(gain)\n",
    "    av_gain.append(np.mean(g))\n",
    "    \n",
    "av = np.array(av_gain)\n",
    "print (np.mean(av), np.std(av))"
   ]
  },
  {
   "cell_type": "code",
   "execution_count": 47,
   "metadata": {},
   "outputs": [
    {
     "name": "stdout",
     "output_type": "stream",
     "text": [
      "194.9666150000007 29.638950582029835\n"
     ]
    }
   ],
   "source": [
    "p1 = 0.25\n",
    "p2 = 0.25\n",
    "\n",
    "k1 = 0.99\n",
    "k2 = 1.01\n",
    "\n",
    "av_gain = []\n",
    "for epoch in range(100):\n",
    "    gain = []\n",
    "    for ind in random.sample(range(3650), 1600):\n",
    "        gain.append(runEpisode1(ind, p1, p2, k1, k2))\n",
    "    g = np.array(gain)\n",
    "    av_gain.append(np.mean(g))\n",
    "    \n",
    "av = np.array(av_gain)\n",
    "print (np.mean(av), np.std(av))"
   ]
  },
  {
   "cell_type": "code",
   "execution_count": 48,
   "metadata": {},
   "outputs": [
    {
     "name": "stdout",
     "output_type": "stream",
     "text": [
      "197.1494351250006 36.06310714532443\n"
     ]
    }
   ],
   "source": [
    "p1 = 0.25\n",
    "p2 = 0.25\n",
    "\n",
    "k1 = 0.98\n",
    "k2 = 1.02\n",
    "\n",
    "av_gain = []\n",
    "for epoch in range(100):\n",
    "    gain = []\n",
    "    for ind in random.sample(range(3650), 1600):\n",
    "        gain.append(runEpisode1(ind, p1, p2, k1, k2))\n",
    "    g = np.array(gain)\n",
    "    av_gain.append(np.mean(g))\n",
    "    \n",
    "av = np.array(av_gain)\n",
    "print (np.mean(av), np.std(av))"
   ]
  },
  {
   "cell_type": "code",
   "execution_count": 49,
   "metadata": {},
   "outputs": [
    {
     "name": "stdout",
     "output_type": "stream",
     "text": [
      "191.22294800000068 33.209053623764866\n"
     ]
    }
   ],
   "source": [
    "p1 = 0.25\n",
    "p2 = 0.25\n",
    "\n",
    "k1 = 0.97\n",
    "k2 = 1.03\n",
    "\n",
    "av_gain = []\n",
    "for epoch in range(100):\n",
    "    gain = []\n",
    "    for ind in random.sample(range(3650), 1600):\n",
    "        gain.append(runEpisode1(ind, p1, p2, k1, k2))\n",
    "    g = np.array(gain)\n",
    "    av_gain.append(np.mean(g))\n",
    "    \n",
    "av = np.array(av_gain)\n",
    "print (np.mean(av), np.std(av))"
   ]
  },
  {
   "cell_type": "code",
   "execution_count": 50,
   "metadata": {},
   "outputs": [
    {
     "name": "stdout",
     "output_type": "stream",
     "text": [
      "225.26951637500068 34.51801663324405\n"
     ]
    }
   ],
   "source": [
    "p1 = 0.25\n",
    "p2 = 0.25\n",
    "\n",
    "k1 = 0.96\n",
    "k2 = 1.04\n",
    "\n",
    "av_gain = []\n",
    "for epoch in range(100):\n",
    "    gain = []\n",
    "    for ind in random.sample(range(3650), 1600):\n",
    "        gain.append(runEpisode1(ind, p1, p2, k1, k2))\n",
    "    g = np.array(gain)\n",
    "    av_gain.append(np.mean(g))\n",
    "    \n",
    "av = np.array(av_gain)\n",
    "print (np.mean(av), np.std(av))"
   ]
  },
  {
   "cell_type": "code",
   "execution_count": 51,
   "metadata": {},
   "outputs": [
    {
     "name": "stdout",
     "output_type": "stream",
     "text": [
      "254.43702068750065 28.346617556031212\n"
     ]
    }
   ],
   "source": [
    "p1 = 0.25\n",
    "p2 = 0.25\n",
    "\n",
    "k1 = 0.95  # default value\n",
    "k2 = 1.05  # default value\n",
    "\n",
    "av_gain = []\n",
    "for epoch in range(100):\n",
    "    gain = []\n",
    "    for ind in random.sample(range(3650), 1600):\n",
    "        gain.append(runEpisode1(ind, p1, p2, k1, k2))\n",
    "    g = np.array(gain)\n",
    "    av_gain.append(np.mean(g))\n",
    "    \n",
    "av = np.array(av_gain)\n",
    "print (np.mean(av), np.std(av))"
   ]
  },
  {
   "cell_type": "code",
   "execution_count": 52,
   "metadata": {},
   "outputs": [
    {
     "name": "stdout",
     "output_type": "stream",
     "text": [
      "287.2280023750006 33.61693907079068\n"
     ]
    }
   ],
   "source": [
    "p1 = 0.25\n",
    "p2 = 0.25\n",
    "\n",
    "k1 = 0.94\n",
    "k2 = 1.06\n",
    "\n",
    "av_gain = []\n",
    "for epoch in range(100):\n",
    "    gain = []\n",
    "    for ind in random.sample(range(3650), 1600):\n",
    "        gain.append(runEpisode1(ind, p1, p2, k1, k2))\n",
    "    g = np.array(gain)\n",
    "    av_gain.append(np.mean(g))\n",
    "    \n",
    "av = np.array(av_gain)\n",
    "print (np.mean(av), np.std(av))"
   ]
  },
  {
   "cell_type": "code",
   "execution_count": 53,
   "metadata": {},
   "outputs": [
    {
     "name": "stdout",
     "output_type": "stream",
     "text": [
      "327.1788026875007 34.819294307710564\n"
     ]
    }
   ],
   "source": [
    "p1 = 0.25\n",
    "p2 = 0.25\n",
    "\n",
    "k1 = 0.93\n",
    "k2 = 1.07\n",
    "\n",
    "av_gain = []\n",
    "for epoch in range(100):\n",
    "    gain = []\n",
    "    for ind in random.sample(range(3650), 1600):\n",
    "        gain.append(runEpisode1(ind, p1, p2, k1, k2))\n",
    "    g = np.array(gain)\n",
    "    av_gain.append(np.mean(g))\n",
    "    \n",
    "av = np.array(av_gain)\n",
    "print (np.mean(av), np.std(av))"
   ]
  },
  {
   "cell_type": "code",
   "execution_count": 54,
   "metadata": {},
   "outputs": [
    {
     "name": "stdout",
     "output_type": "stream",
     "text": [
      "318.34923612500063 33.74719741288203\n"
     ]
    }
   ],
   "source": [
    "p1 = 0.25\n",
    "p2 = 0.25\n",
    "\n",
    "k1 = 0.92\n",
    "k2 = 1.08\n",
    "\n",
    "av_gain = []\n",
    "for epoch in range(100):\n",
    "    gain = []\n",
    "    for ind in random.sample(range(3650), 1600):\n",
    "        gain.append(runEpisode1(ind, p1, p2, k1, k2))\n",
    "    g = np.array(gain)\n",
    "    av_gain.append(np.mean(g))\n",
    "    \n",
    "av = np.array(av_gain)\n",
    "print (np.mean(av), np.std(av))"
   ]
  },
  {
   "cell_type": "code",
   "execution_count": 55,
   "metadata": {},
   "outputs": [
    {
     "name": "stdout",
     "output_type": "stream",
     "text": [
      "343.2562734375008 31.555594811423227\n"
     ]
    }
   ],
   "source": [
    "p1 = 0.25\n",
    "p2 = 0.25\n",
    "\n",
    "k1 = 0.91\n",
    "k2 = 1.09\n",
    "\n",
    "av_gain = []\n",
    "for epoch in range(100):\n",
    "    gain = []\n",
    "    for ind in random.sample(range(3650), 1600):\n",
    "        gain.append(runEpisode1(ind, p1, p2, k1, k2))\n",
    "    g = np.array(gain)\n",
    "    av_gain.append(np.mean(g))\n",
    "    \n",
    "av = np.array(av_gain)\n",
    "print (np.mean(av), np.std(av))"
   ]
  },
  {
   "cell_type": "code",
   "execution_count": 56,
   "metadata": {},
   "outputs": [
    {
     "name": "stdout",
     "output_type": "stream",
     "text": [
      "347.58165318750054 31.67823535909741\n"
     ]
    }
   ],
   "source": [
    "p1 = 0.25\n",
    "p2 = 0.25\n",
    "\n",
    "k1 = 0.9\n",
    "k2 = 1.1\n",
    "\n",
    "av_gain = []\n",
    "for epoch in range(100):\n",
    "    gain = []\n",
    "    for ind in random.sample(range(3650), 1600):\n",
    "        gain.append(runEpisode1(ind, p1, p2, k1, k2))\n",
    "    g = np.array(gain)\n",
    "    av_gain.append(np.mean(g))\n",
    "    \n",
    "av = np.array(av_gain)\n",
    "print (np.mean(av), np.std(av))"
   ]
  },
  {
   "cell_type": "code",
   "execution_count": 57,
   "metadata": {},
   "outputs": [
    {
     "name": "stdout",
     "output_type": "stream",
     "text": [
      "379.93827937500066 31.28642907007415\n"
     ]
    }
   ],
   "source": [
    "p1 = 0.25\n",
    "p2 = 0.25\n",
    "\n",
    "k1 = 0.89\n",
    "k2 = 1.11\n",
    "\n",
    "av_gain = []\n",
    "for epoch in range(100):\n",
    "    gain = []\n",
    "    for ind in random.sample(range(3650), 1600):\n",
    "        gain.append(runEpisode1(ind, p1, p2, k1, k2))\n",
    "    g = np.array(gain)\n",
    "    av_gain.append(np.mean(g))\n",
    "    \n",
    "av = np.array(av_gain)\n",
    "print (np.mean(av), np.std(av))"
   ]
  },
  {
   "cell_type": "code",
   "execution_count": 58,
   "metadata": {},
   "outputs": [
    {
     "name": "stdout",
     "output_type": "stream",
     "text": [
      "309.9752911250005 31.328469057882415\n"
     ]
    }
   ],
   "source": [
    "p1 = 0.25\n",
    "p2 = 0.25\n",
    "\n",
    "k1 = 0.88\n",
    "k2 = 1.12\n",
    "\n",
    "av_gain = []\n",
    "for epoch in range(100):\n",
    "    gain = []\n",
    "    for ind in random.sample(range(3650), 1600):\n",
    "        gain.append(runEpisode1(ind, p1, p2, k1, k2))\n",
    "    g = np.array(gain)\n",
    "    av_gain.append(np.mean(g))\n",
    "    \n",
    "av = np.array(av_gain)\n",
    "print (np.mean(av), np.std(av))"
   ]
  },
  {
   "cell_type": "code",
   "execution_count": 59,
   "metadata": {},
   "outputs": [
    {
     "name": "stdout",
     "output_type": "stream",
     "text": [
      "309.04457631250057 31.76740884101184\n"
     ]
    }
   ],
   "source": [
    "p1 = 0.25\n",
    "p2 = 0.25\n",
    "\n",
    "k1 = 0.88\n",
    "k2 = 1.12\n",
    "\n",
    "av_gain = []\n",
    "for epoch in range(100):\n",
    "    gain = []\n",
    "    for ind in random.sample(range(3650), 1600):\n",
    "        gain.append(runEpisode1(ind, p1, p2, k1, k2))\n",
    "    g = np.array(gain)\n",
    "    av_gain.append(np.mean(g))\n",
    "    \n",
    "av = np.array(av_gain)\n",
    "print (np.mean(av), np.std(av))"
   ]
  },
  {
   "cell_type": "code",
   "execution_count": 60,
   "metadata": {},
   "outputs": [
    {
     "name": "stdout",
     "output_type": "stream",
     "text": [
      "379.6851840000007 34.29302339308526\n"
     ]
    }
   ],
   "source": [
    "p1 = 0.25\n",
    "p2 = 0.25\n",
    "\n",
    "k1 = 0.89\n",
    "k2 = 1.11\n",
    "\n",
    "av_gain = []\n",
    "for epoch in range(100):\n",
    "    gain = []\n",
    "    for ind in random.sample(range(3650), 1600):\n",
    "        gain.append(runEpisode1(ind, p1, p2, k1, k2))\n",
    "    g = np.array(gain)\n",
    "    av_gain.append(np.mean(g))\n",
    "    \n",
    "av = np.array(av_gain)\n",
    "print (np.mean(av), np.std(av))"
   ]
  },
  {
   "cell_type": "code",
   "execution_count": 61,
   "metadata": {},
   "outputs": [
    {
     "name": "stdout",
     "output_type": "stream",
     "text": [
      "373.3188911250007 31.198547408622236\n"
     ]
    }
   ],
   "source": [
    "p1 = 0.25\n",
    "p2 = 0.25\n",
    "\n",
    "k1 = 0.89\n",
    "k2 = 1.11\n",
    "\n",
    "av_gain = []\n",
    "for epoch in range(100):\n",
    "    gain = []\n",
    "    for ind in random.sample(range(3650), 1600):\n",
    "        gain.append(runEpisode1(ind, p1, p2, k1, k2))\n",
    "    g = np.array(gain)\n",
    "    av_gain.append(np.mean(g))\n",
    "    \n",
    "av = np.array(av_gain)\n",
    "print (np.mean(av), np.std(av))"
   ]
  },
  {
   "cell_type": "code",
   "execution_count": 62,
   "metadata": {},
   "outputs": [
    {
     "name": "stdout",
     "output_type": "stream",
     "text": [
      "377.8214850625006 37.687600131949935\n"
     ]
    }
   ],
   "source": [
    "p1 = 0.25\n",
    "p2 = 0.25\n",
    "\n",
    "k1 = 0.89\n",
    "k2 = 1.11\n",
    "\n",
    "av_gain = []\n",
    "for epoch in range(100):\n",
    "    gain = []\n",
    "    for ind in random.sample(range(3650), 1600):\n",
    "        gain.append(runEpisode1(ind, p1, p2, k1, k2))\n",
    "    g = np.array(gain)\n",
    "    av_gain.append(np.mean(g))\n",
    "    \n",
    "av = np.array(av_gain)\n",
    "print (np.mean(av), np.std(av))"
   ]
  },
  {
   "cell_type": "code",
   "execution_count": 63,
   "metadata": {},
   "outputs": [
    {
     "name": "stdout",
     "output_type": "stream",
     "text": [
      "358.56092537500075 31.441777475749248\n"
     ]
    }
   ],
   "source": [
    "p1 = 0.2\n",
    "p2 = 0.2\n",
    "\n",
    "k1 = 0.89\n",
    "k2 = 1.11\n",
    "\n",
    "av_gain = []\n",
    "for epoch in range(100):\n",
    "    gain = []\n",
    "    for ind in random.sample(range(3650), 1600):\n",
    "        gain.append(runEpisode1(ind, p1, p2, k1, k2))\n",
    "    g = np.array(gain)\n",
    "    av_gain.append(np.mean(g))\n",
    "    \n",
    "av = np.array(av_gain)\n",
    "print (np.mean(av), np.std(av))"
   ]
  },
  {
   "cell_type": "code",
   "execution_count": 64,
   "metadata": {},
   "outputs": [
    {
     "name": "stdout",
     "output_type": "stream",
     "text": [
      "337.1813996250006 32.34567686420897\n"
     ]
    }
   ],
   "source": [
    "p1 = 0.15\n",
    "p2 = 0.15\n",
    "\n",
    "k1 = 0.89\n",
    "k2 = 1.11\n",
    "\n",
    "av_gain = []\n",
    "for epoch in range(100):\n",
    "    gain = []\n",
    "    for ind in random.sample(range(3650), 1600):\n",
    "        gain.append(runEpisode1(ind, p1, p2, k1, k2))\n",
    "    g = np.array(gain)\n",
    "    av_gain.append(np.mean(g))\n",
    "    \n",
    "av = np.array(av_gain)\n",
    "print (np.mean(av), np.std(av))"
   ]
  },
  {
   "cell_type": "code",
   "execution_count": 65,
   "metadata": {},
   "outputs": [
    {
     "name": "stdout",
     "output_type": "stream",
     "text": [
      "306.0390248125007 36.8192469657755\n"
     ]
    }
   ],
   "source": [
    "p1 = 0.1\n",
    "p2 = 0.1\n",
    "\n",
    "k1 = 0.89\n",
    "k2 = 1.11\n",
    "\n",
    "av_gain = []\n",
    "for epoch in range(100):\n",
    "    gain = []\n",
    "    for ind in random.sample(range(3650), 1600):\n",
    "        gain.append(runEpisode1(ind, p1, p2, k1, k2))\n",
    "    g = np.array(gain)\n",
    "    av_gain.append(np.mean(g))\n",
    "    \n",
    "av = np.array(av_gain)\n",
    "print (np.mean(av), np.std(av))"
   ]
  },
  {
   "cell_type": "code",
   "execution_count": 66,
   "metadata": {},
   "outputs": [
    {
     "name": "stdout",
     "output_type": "stream",
     "text": [
      "396.9489918125007 31.546514173861627\n"
     ]
    }
   ],
   "source": [
    "p1 = 0.3\n",
    "p2 = 0.3\n",
    "\n",
    "k1 = 0.89\n",
    "k2 = 1.11\n",
    "\n",
    "av_gain = []\n",
    "for epoch in range(100):\n",
    "    gain = []\n",
    "    for ind in random.sample(range(3650), 1600):\n",
    "        gain.append(runEpisode1(ind, p1, p2, k1, k2))\n",
    "    g = np.array(gain)\n",
    "    av_gain.append(np.mean(g))\n",
    "    \n",
    "av = np.array(av_gain)\n",
    "print (np.mean(av), np.std(av))"
   ]
  },
  {
   "cell_type": "code",
   "execution_count": 67,
   "metadata": {},
   "outputs": [
    {
     "name": "stdout",
     "output_type": "stream",
     "text": [
      "408.49602543750063 31.130718321825817\n"
     ]
    }
   ],
   "source": [
    "p1 = 0.35\n",
    "p2 = 0.35\n",
    "\n",
    "k1 = 0.89\n",
    "k2 = 1.11\n",
    "\n",
    "av_gain = []\n",
    "for epoch in range(100):\n",
    "    gain = []\n",
    "    for ind in random.sample(range(3650), 1600):\n",
    "        gain.append(runEpisode1(ind, p1, p2, k1, k2))\n",
    "    g = np.array(gain)\n",
    "    av_gain.append(np.mean(g))\n",
    "    \n",
    "av = np.array(av_gain)\n",
    "print (np.mean(av), np.std(av))"
   ]
  },
  {
   "cell_type": "code",
   "execution_count": 68,
   "metadata": {},
   "outputs": [
    {
     "name": "stdout",
     "output_type": "stream",
     "text": [
      "420.9213498750006 34.041317702700674\n"
     ]
    }
   ],
   "source": [
    "p1 = 0.4\n",
    "p2 = 0.4\n",
    "\n",
    "k1 = 0.89\n",
    "k2 = 1.11\n",
    "\n",
    "av_gain = []\n",
    "for epoch in range(100):\n",
    "    gain = []\n",
    "    for ind in random.sample(range(3650), 1600):\n",
    "        gain.append(runEpisode1(ind, p1, p2, k1, k2))\n",
    "    g = np.array(gain)\n",
    "    av_gain.append(np.mean(g))\n",
    "    \n",
    "av = np.array(av_gain)\n",
    "print (np.mean(av), np.std(av))"
   ]
  },
  {
   "cell_type": "code",
   "execution_count": 69,
   "metadata": {},
   "outputs": [
    {
     "name": "stdout",
     "output_type": "stream",
     "text": [
      "428.08753493750066 30.249810452856984\n"
     ]
    }
   ],
   "source": [
    "p1 = 0.45\n",
    "p2 = 0.45\n",
    "\n",
    "k1 = 0.89\n",
    "k2 = 1.11\n",
    "\n",
    "av_gain = []\n",
    "for epoch in range(100):\n",
    "    gain = []\n",
    "    for ind in random.sample(range(3650), 1600):\n",
    "        gain.append(runEpisode1(ind, p1, p2, k1, k2))\n",
    "    g = np.array(gain)\n",
    "    av_gain.append(np.mean(g))\n",
    "    \n",
    "av = np.array(av_gain)\n",
    "print (np.mean(av), np.std(av))"
   ]
  },
  {
   "cell_type": "code",
   "execution_count": 70,
   "metadata": {},
   "outputs": [
    {
     "name": "stdout",
     "output_type": "stream",
     "text": [
      "431.0248299375006 30.747345166725495\n"
     ]
    }
   ],
   "source": [
    "p1 = 0.5\n",
    "p2 = 0.5\n",
    "\n",
    "k1 = 0.89\n",
    "k2 = 1.11\n",
    "\n",
    "av_gain = []\n",
    "for epoch in range(100):\n",
    "    gain = []\n",
    "    for ind in random.sample(range(3650), 1600):\n",
    "        gain.append(runEpisode1(ind, p1, p2, k1, k2))\n",
    "    g = np.array(gain)\n",
    "    av_gain.append(np.mean(g))\n",
    "    \n",
    "av = np.array(av_gain)\n",
    "print (np.mean(av), np.std(av))"
   ]
  },
  {
   "cell_type": "code",
   "execution_count": 71,
   "metadata": {},
   "outputs": [
    {
     "name": "stdout",
     "output_type": "stream",
     "text": [
      "434.04479925000066 29.97715444298705\n"
     ]
    }
   ],
   "source": [
    "p1 = 0.55\n",
    "p2 = 0.55\n",
    "\n",
    "k1 = 0.89\n",
    "k2 = 1.11\n",
    "\n",
    "av_gain = []\n",
    "for epoch in range(100):\n",
    "    gain = []\n",
    "    for ind in random.sample(range(3650), 1600):\n",
    "        gain.append(runEpisode1(ind, p1, p2, k1, k2))\n",
    "    g = np.array(gain)\n",
    "    av_gain.append(np.mean(g))\n",
    "    \n",
    "av = np.array(av_gain)\n",
    "print (np.mean(av), np.std(av))"
   ]
  },
  {
   "cell_type": "code",
   "execution_count": 72,
   "metadata": {},
   "outputs": [
    {
     "name": "stdout",
     "output_type": "stream",
     "text": [
      "438.21315381250054 33.97397837443448\n"
     ]
    }
   ],
   "source": [
    "p1 = 0.6\n",
    "p2 = 0.6\n",
    "\n",
    "k1 = 0.89\n",
    "k2 = 1.11\n",
    "\n",
    "av_gain = []\n",
    "for epoch in range(100):\n",
    "    gain = []\n",
    "    for ind in random.sample(range(3650), 1600):\n",
    "        gain.append(runEpisode1(ind, p1, p2, k1, k2))\n",
    "    g = np.array(gain)\n",
    "    av_gain.append(np.mean(g))\n",
    "    \n",
    "av = np.array(av_gain)\n",
    "print (np.mean(av), np.std(av))"
   ]
  },
  {
   "cell_type": "code",
   "execution_count": 73,
   "metadata": {},
   "outputs": [
    {
     "name": "stdout",
     "output_type": "stream",
     "text": [
      "441.2661801875006 35.1089147357712\n"
     ]
    }
   ],
   "source": [
    "p1 = 0.65\n",
    "p2 = 0.65\n",
    "\n",
    "k1 = 0.89\n",
    "k2 = 1.11\n",
    "\n",
    "av_gain = []\n",
    "for epoch in range(100):\n",
    "    gain = []\n",
    "    for ind in random.sample(range(3650), 1600):\n",
    "        gain.append(runEpisode1(ind, p1, p2, k1, k2))\n",
    "    g = np.array(gain)\n",
    "    av_gain.append(np.mean(g))\n",
    "    \n",
    "av = np.array(av_gain)\n",
    "print (np.mean(av), np.std(av))"
   ]
  },
  {
   "cell_type": "code",
   "execution_count": 74,
   "metadata": {},
   "outputs": [
    {
     "name": "stdout",
     "output_type": "stream",
     "text": [
      "444.84369350000065 30.27765806360856\n"
     ]
    }
   ],
   "source": [
    "p1 = 0.7\n",
    "p2 = 0.7\n",
    "\n",
    "k1 = 0.89\n",
    "k2 = 1.11\n",
    "\n",
    "av_gain = []\n",
    "for epoch in range(100):\n",
    "    gain = []\n",
    "    for ind in random.sample(range(3650), 1600):\n",
    "        gain.append(runEpisode1(ind, p1, p2, k1, k2))\n",
    "    g = np.array(gain)\n",
    "    av_gain.append(np.mean(g))\n",
    "    \n",
    "av = np.array(av_gain)\n",
    "print (np.mean(av), np.std(av))"
   ]
  },
  {
   "cell_type": "code",
   "execution_count": 75,
   "metadata": {},
   "outputs": [
    {
     "name": "stdout",
     "output_type": "stream",
     "text": [
      "440.46636287500064 32.73055196088941\n"
     ]
    }
   ],
   "source": [
    "p1 = 0.75\n",
    "p2 = 0.75\n",
    "\n",
    "k1 = 0.89\n",
    "k2 = 1.11\n",
    "\n",
    "av_gain = []\n",
    "for epoch in range(100):\n",
    "    gain = []\n",
    "    for ind in random.sample(range(3650), 1600):\n",
    "        gain.append(runEpisode1(ind, p1, p2, k1, k2))\n",
    "    g = np.array(gain)\n",
    "    av_gain.append(np.mean(g))\n",
    "    \n",
    "av = np.array(av_gain)\n",
    "print (np.mean(av), np.std(av))"
   ]
  },
  {
   "cell_type": "code",
   "execution_count": 76,
   "metadata": {},
   "outputs": [
    {
     "name": "stdout",
     "output_type": "stream",
     "text": [
      "435.60129368750063 30.478456769721102\n"
     ]
    }
   ],
   "source": [
    "p1 = 0.8\n",
    "p2 = 0.8\n",
    "\n",
    "k1 = 0.89\n",
    "k2 = 1.11\n",
    "\n",
    "av_gain = []\n",
    "for epoch in range(100):\n",
    "    gain = []\n",
    "    for ind in random.sample(range(3650), 1600):\n",
    "        gain.append(runEpisode1(ind, p1, p2, k1, k2))\n",
    "    g = np.array(gain)\n",
    "    av_gain.append(np.mean(g))\n",
    "    \n",
    "av = np.array(av_gain)\n",
    "print (np.mean(av), np.std(av))"
   ]
  },
  {
   "cell_type": "code",
   "execution_count": 77,
   "metadata": {},
   "outputs": [
    {
     "name": "stdout",
     "output_type": "stream",
     "text": [
      "442.4443096250007 27.96811599145453\n"
     ]
    }
   ],
   "source": [
    "p1 = 0.7\n",
    "p2 = 0.7\n",
    "\n",
    "k1 = 0.89\n",
    "k2 = 1.11\n",
    "\n",
    "av_gain = []\n",
    "for epoch in range(100):\n",
    "    gain = []\n",
    "    for ind in random.sample(range(3650), 1600):\n",
    "        gain.append(runEpisode1(ind, p1, p2, k1, k2))\n",
    "    g = np.array(gain)\n",
    "    av_gain.append(np.mean(g))\n",
    "    \n",
    "av = np.array(av_gain)\n",
    "print (np.mean(av), np.std(av))"
   ]
  },
  {
   "cell_type": "code",
   "execution_count": 78,
   "metadata": {},
   "outputs": [
    {
     "name": "stdout",
     "output_type": "stream",
     "text": [
      "441.2369963750007 31.540209471300468\n"
     ]
    }
   ],
   "source": [
    "p1 = 0.7\n",
    "p2 = 0.7\n",
    "\n",
    "k1 = 0.89\n",
    "k2 = 1.11\n",
    "\n",
    "av_gain = []\n",
    "for epoch in range(100):\n",
    "    gain = []\n",
    "    for ind in random.sample(range(3650), 1600):\n",
    "        gain.append(runEpisode1(ind, p1, p2, k1, k2))\n",
    "    g = np.array(gain)\n",
    "    av_gain.append(np.mean(g))\n",
    "    \n",
    "av = np.array(av_gain)\n",
    "print (np.mean(av), np.std(av))"
   ]
  },
  {
   "cell_type": "code",
   "execution_count": 79,
   "metadata": {},
   "outputs": [
    {
     "name": "stdout",
     "output_type": "stream",
     "text": [
      "380.5365539375006 33.22513647461953\n"
     ]
    }
   ],
   "source": [
    "p1 = 0.7\n",
    "p2 = 0.7\n",
    "\n",
    "k1 = 0.9\n",
    "k2 = 1.1\n",
    "\n",
    "av_gain = []\n",
    "for epoch in range(100):\n",
    "    gain = []\n",
    "    for ind in random.sample(range(3650), 1600):\n",
    "        gain.append(runEpisode1(ind, p1, p2, k1, k2))\n",
    "    g = np.array(gain)\n",
    "    av_gain.append(np.mean(g))\n",
    "    \n",
    "av = np.array(av_gain)\n",
    "print (np.mean(av), np.std(av))"
   ]
  },
  {
   "cell_type": "code",
   "execution_count": 80,
   "metadata": {},
   "outputs": [
    {
     "name": "stdout",
     "output_type": "stream",
     "text": [
      "365.04944237500087 32.46003545596775\n"
     ]
    }
   ],
   "source": [
    "p1 = 0.7\n",
    "p2 = 0.7\n",
    "\n",
    "k1 = 0.91\n",
    "k2 = 1.09\n",
    "\n",
    "av_gain = []\n",
    "for epoch in range(100):\n",
    "    gain = []\n",
    "    for ind in random.sample(range(3650), 1600):\n",
    "        gain.append(runEpisode1(ind, p1, p2, k1, k2))\n",
    "    g = np.array(gain)\n",
    "    av_gain.append(np.mean(g))\n",
    "    \n",
    "av = np.array(av_gain)\n",
    "print (np.mean(av), np.std(av))"
   ]
  },
  {
   "cell_type": "code",
   "execution_count": 81,
   "metadata": {},
   "outputs": [
    {
     "name": "stdout",
     "output_type": "stream",
     "text": [
      "373.32435512500064 36.0349373419372\n"
     ]
    }
   ],
   "source": [
    "p1 = 0.7\n",
    "p2 = 0.7\n",
    "\n",
    "k1 = 0.92\n",
    "k2 = 1.08\n",
    "\n",
    "av_gain = []\n",
    "for epoch in range(100):\n",
    "    gain = []\n",
    "    for ind in random.sample(range(3650), 1600):\n",
    "        gain.append(runEpisode1(ind, p1, p2, k1, k2))\n",
    "    g = np.array(gain)\n",
    "    av_gain.append(np.mean(g))\n",
    "    \n",
    "av = np.array(av_gain)\n",
    "print (np.mean(av), np.std(av))"
   ]
  },
  {
   "cell_type": "code",
   "execution_count": 82,
   "metadata": {},
   "outputs": [
    {
     "name": "stdout",
     "output_type": "stream",
     "text": [
      "445.1496371875006 27.859385803487022\n"
     ]
    }
   ],
   "source": [
    "p1 = 0.7\n",
    "p2 = 0.7\n",
    "\n",
    "k1 = 0.89\n",
    "k2 = 1.11\n",
    "\n",
    "av_gain = []\n",
    "for epoch in range(100):\n",
    "    gain = []\n",
    "    for ind in random.sample(range(3650), 1600):\n",
    "        gain.append(runEpisode1(ind, p1, p2, k1, k2))\n",
    "    g = np.array(gain)\n",
    "    av_gain.append(np.mean(g))\n",
    "    \n",
    "av = np.array(av_gain)\n",
    "print (np.mean(av), np.std(av))"
   ]
  },
  {
   "cell_type": "code",
   "execution_count": 83,
   "metadata": {},
   "outputs": [
    {
     "name": "stdout",
     "output_type": "stream",
     "text": [
      "363.9740669375006 27.107377817820257\n"
     ]
    }
   ],
   "source": [
    "p1 = 0.7\n",
    "p2 = 0.7\n",
    "\n",
    "k1 = 0.88\n",
    "k2 = 1.12\n",
    "\n",
    "av_gain = []\n",
    "for epoch in range(100):\n",
    "    gain = []\n",
    "    for ind in random.sample(range(3650), 1600):\n",
    "        gain.append(runEpisode1(ind, p1, p2, k1, k2))\n",
    "    g = np.array(gain)\n",
    "    av_gain.append(np.mean(g))\n",
    "    \n",
    "av = np.array(av_gain)\n",
    "print (np.mean(av), np.std(av))"
   ]
  },
  {
   "cell_type": "code",
   "execution_count": 84,
   "metadata": {},
   "outputs": [
    {
     "name": "stdout",
     "output_type": "stream",
     "text": [
      "364.30040193750057 28.533718478377228\n"
     ]
    }
   ],
   "source": [
    "p1 = 0.7\n",
    "p2 = 0.7\n",
    "\n",
    "k1 = 0.88\n",
    "k2 = 1.12\n",
    "\n",
    "av_gain = []\n",
    "for epoch in range(100):\n",
    "    gain = []\n",
    "    for ind in random.sample(range(3650), 1600):\n",
    "        gain.append(runEpisode1(ind, p1, p2, k1, k2))\n",
    "    g = np.array(gain)\n",
    "    av_gain.append(np.mean(g))\n",
    "    \n",
    "av = np.array(av_gain)\n",
    "print (np.mean(av), np.std(av))"
   ]
  },
  {
   "cell_type": "code",
   "execution_count": 85,
   "metadata": {},
   "outputs": [
    {
     "name": "stdout",
     "output_type": "stream",
     "text": [
      "372.0377652500006 27.587090783991727\n"
     ]
    }
   ],
   "source": [
    "p1 = 0.7\n",
    "p2 = 0.7\n",
    "\n",
    "k1 = 0.87\n",
    "k2 = 1.13\n",
    "\n",
    "av_gain = []\n",
    "for epoch in range(100):\n",
    "    gain = []\n",
    "    for ind in random.sample(range(3650), 1600):\n",
    "        gain.append(runEpisode1(ind, p1, p2, k1, k2))\n",
    "    g = np.array(gain)\n",
    "    av_gain.append(np.mean(g))\n",
    "    \n",
    "av = np.array(av_gain)\n",
    "print (np.mean(av), np.std(av))"
   ]
  },
  {
   "cell_type": "code",
   "execution_count": 86,
   "metadata": {},
   "outputs": [
    {
     "name": "stdout",
     "output_type": "stream",
     "text": [
      "446.4450705000007 31.008170446742838\n"
     ]
    }
   ],
   "source": [
    "p1 = 0.7\n",
    "p2 = 0.7\n",
    "\n",
    "k1 = 0.89\n",
    "k2 = 1.11\n",
    "\n",
    "av_gain = []\n",
    "for epoch in range(100):\n",
    "    gain = []\n",
    "    for ind in random.sample(range(3650), 1600):\n",
    "        gain.append(runEpisode1(ind, p1, p2, k1, k2))\n",
    "    g = np.array(gain)\n",
    "    av_gain.append(np.mean(g))\n",
    "    \n",
    "av = np.array(av_gain)\n",
    "print (np.mean(av), np.std(av))"
   ]
  },
  {
   "cell_type": "code",
   "execution_count": 87,
   "metadata": {},
   "outputs": [
    {
     "name": "stdout",
     "output_type": "stream",
     "text": [
      "438.72828806250067 32.56570624328204\n"
     ]
    }
   ],
   "source": [
    "p1 = 0.75\n",
    "p2 = 0.7\n",
    "\n",
    "k1 = 0.89\n",
    "k2 = 1.11\n",
    "\n",
    "av_gain = []\n",
    "for epoch in range(100):\n",
    "    gain = []\n",
    "    for ind in random.sample(range(3650), 1600):\n",
    "        gain.append(runEpisode1(ind, p1, p2, k1, k2))\n",
    "    g = np.array(gain)\n",
    "    av_gain.append(np.mean(g))\n",
    "    \n",
    "av = np.array(av_gain)\n",
    "print (np.mean(av), np.std(av))"
   ]
  },
  {
   "cell_type": "code",
   "execution_count": 88,
   "metadata": {},
   "outputs": [
    {
     "name": "stdout",
     "output_type": "stream",
     "text": [
      "447.0754900000006 28.679989552776576\n"
     ]
    }
   ],
   "source": [
    "p1 = 0.7\n",
    "p2 = 0.75\n",
    "\n",
    "k1 = 0.89\n",
    "k2 = 1.11\n",
    "\n",
    "av_gain = []\n",
    "for epoch in range(100):\n",
    "    gain = []\n",
    "    for ind in random.sample(range(3650), 1600):\n",
    "        gain.append(runEpisode1(ind, p1, p2, k1, k2))\n",
    "    g = np.array(gain)\n",
    "    av_gain.append(np.mean(g))\n",
    "    \n",
    "av = np.array(av_gain)\n",
    "print (np.mean(av), np.std(av))"
   ]
  },
  {
   "cell_type": "code",
   "execution_count": 89,
   "metadata": {},
   "outputs": [
    {
     "name": "stdout",
     "output_type": "stream",
     "text": [
      "442.73398556250066 29.861445453208137\n"
     ]
    }
   ],
   "source": [
    "p1 = 0.75\n",
    "p2 = 0.75\n",
    "\n",
    "k1 = 0.89\n",
    "k2 = 1.11\n",
    "\n",
    "av_gain = []\n",
    "for epoch in range(100):\n",
    "    gain = []\n",
    "    for ind in random.sample(range(3650), 1600):\n",
    "        gain.append(runEpisode1(ind, p1, p2, k1, k2))\n",
    "    g = np.array(gain)\n",
    "    av_gain.append(np.mean(g))\n",
    "    \n",
    "av = np.array(av_gain)\n",
    "print (np.mean(av), np.std(av))"
   ]
  },
  {
   "cell_type": "code",
   "execution_count": 90,
   "metadata": {},
   "outputs": [
    {
     "name": "stdout",
     "output_type": "stream",
     "text": [
      "403.61824606250053 30.202129061333686\n"
     ]
    }
   ],
   "source": [
    "p1 = 0.7\n",
    "p2 = 0.75\n",
    "\n",
    "k1 = 0.9\n",
    "k2 = 1.11\n",
    "\n",
    "av_gain = []\n",
    "for epoch in range(100):\n",
    "    gain = []\n",
    "    for ind in random.sample(range(3650), 1600):\n",
    "        gain.append(runEpisode1(ind, p1, p2, k1, k2))\n",
    "    g = np.array(gain)\n",
    "    av_gain.append(np.mean(g))\n",
    "    \n",
    "av = np.array(av_gain)\n",
    "print (np.mean(av), np.std(av))"
   ]
  },
  {
   "cell_type": "code",
   "execution_count": 91,
   "metadata": {},
   "outputs": [
    {
     "name": "stdout",
     "output_type": "stream",
     "text": [
      "476.62885256250064 30.602333663251756\n"
     ]
    }
   ],
   "source": [
    "p1 = 0.7\n",
    "p2 = 0.75\n",
    "\n",
    "k1 = 0.88\n",
    "k2 = 1.11\n",
    "\n",
    "av_gain = []\n",
    "for epoch in range(100):\n",
    "    gain = []\n",
    "    for ind in random.sample(range(3650), 1600):\n",
    "        gain.append(runEpisode1(ind, p1, p2, k1, k2))\n",
    "    g = np.array(gain)\n",
    "    av_gain.append(np.mean(g))\n",
    "    \n",
    "av = np.array(av_gain)\n",
    "print (np.mean(av), np.std(av))"
   ]
  },
  {
   "cell_type": "code",
   "execution_count": 92,
   "metadata": {},
   "outputs": [
    {
     "name": "stdout",
     "output_type": "stream",
     "text": [
      "425.20332037500054 30.694750592415968\n"
     ]
    }
   ],
   "source": [
    "p1 = 0.7\n",
    "p2 = 0.75\n",
    "\n",
    "k1 = 0.89\n",
    "k2 = 1.1\n",
    "\n",
    "av_gain = []\n",
    "for epoch in range(100):\n",
    "    gain = []\n",
    "    for ind in random.sample(range(3650), 1600):\n",
    "        gain.append(runEpisode1(ind, p1, p2, k1, k2))\n",
    "    g = np.array(gain)\n",
    "    av_gain.append(np.mean(g))\n",
    "    \n",
    "av = np.array(av_gain)\n",
    "print (np.mean(av), np.std(av))"
   ]
  },
  {
   "cell_type": "code",
   "execution_count": 93,
   "metadata": {},
   "outputs": [
    {
     "name": "stdout",
     "output_type": "stream",
     "text": [
      "342.4770450625006 29.27939582987236\n"
     ]
    }
   ],
   "source": [
    "p1 = 0.7\n",
    "p2 = 0.75\n",
    "\n",
    "k1 = 0.89\n",
    "k2 = 1.12\n",
    "\n",
    "av_gain = []\n",
    "for epoch in range(100):\n",
    "    gain = []\n",
    "    for ind in random.sample(range(3650), 1600):\n",
    "        gain.append(runEpisode1(ind, p1, p2, k1, k2))\n",
    "    g = np.array(gain)\n",
    "    av_gain.append(np.mean(g))\n",
    "    \n",
    "av = np.array(av_gain)\n",
    "print (np.mean(av), np.std(av))"
   ]
  },
  {
   "cell_type": "markdown",
   "metadata": {},
   "source": [
    "This is the best return I could see so far (interestingly, the policy is stochastic.):"
   ]
  },
  {
   "cell_type": "code",
   "execution_count": 94,
   "metadata": {},
   "outputs": [
    {
     "name": "stdout",
     "output_type": "stream",
     "text": [
      "481.95782156250084 33.05526867758582\n"
     ]
    }
   ],
   "source": [
    "p1 = 0.7\n",
    "p2 = 0.75\n",
    "\n",
    "k1 = 0.88\n",
    "k2 = 1.11\n",
    "\n",
    "av_gain = []\n",
    "for epoch in range(100):\n",
    "    gain = []\n",
    "    for ind in random.sample(range(3650), 1600):\n",
    "        gain.append(runEpisode1(ind, p1, p2, k1, k2))\n",
    "    g = np.array(gain)\n",
    "    av_gain.append(np.mean(g))\n",
    "    \n",
    "av = np.array(av_gain)\n",
    "print (np.mean(av), np.std(av))"
   ]
  },
  {
   "cell_type": "code",
   "execution_count": 95,
   "metadata": {},
   "outputs": [
    {
     "name": "stdout",
     "output_type": "stream",
     "text": [
      "477.6350636250006 31.018960261887564\n"
     ]
    }
   ],
   "source": [
    "p1 = 0.7\n",
    "p2 = 0.75\n",
    "\n",
    "k1 = 0.88\n",
    "k2 = 1.11\n",
    "\n",
    "av_gain = []\n",
    "for epoch in range(100):\n",
    "    gain = []\n",
    "    for ind in random.sample(range(3650), 1600):\n",
    "        gain.append(runEpisode1(ind, p1, p2, k1, k2))\n",
    "    g = np.array(gain)\n",
    "    av_gain.append(np.mean(g))\n",
    "    \n",
    "av = np.array(av_gain)\n",
    "print (np.mean(av), np.std(av))"
   ]
  },
  {
   "cell_type": "markdown",
   "metadata": {},
   "source": [
    "OK. First, stochastic policy does produce better return than deterministic."
   ]
  },
  {
   "cell_type": "markdown",
   "metadata": {},
   "source": [
    "This seems to be the best parameter combination seen so far. The system has no memory! From state S2 the agent sells all shares or invest all the money it has when price passes the thresholds. While in states S1 and S3 the next action is chosen randomly (with probabilities determined by p1 and p2)."
   ]
  },
  {
   "cell_type": "code",
   "execution_count": 96,
   "metadata": {
    "collapsed": true
   },
   "outputs": [],
   "source": [
    "%matplotlib inline\n",
    "import matplotlib.pyplot as plt"
   ]
  },
  {
   "cell_type": "code",
   "execution_count": 97,
   "metadata": {},
   "outputs": [
    {
     "data": {
      "text/plain": [
       "(array([ 1.,  3.,  5., 10., 17., 25., 18., 14.,  3.,  4.]),\n",
       " array([383.25959375, 400.43918438, 417.618775  , 434.79836563,\n",
       "        451.97795625, 469.15754688, 486.3371375 , 503.51672813,\n",
       "        520.69631875, 537.87590938, 555.0555    ]),\n",
       " <a list of 10 Patch objects>)"
      ]
     },
     "execution_count": 97,
     "metadata": {},
     "output_type": "execute_result"
    },
    {
     "data": {
      "image/png": "[encoded data removed]",
      "text/plain": [
       "<matplotlib.figure.Figure at 0x17765a80400>"
      ]
     },
     "metadata": {},
     "output_type": "display_data"
    }
   ],
   "source": [
    "plt.hist(av_gain)"
   ]
  },
  {
   "cell_type": "code",
   "execution_count": 98,
   "metadata": {},
   "outputs": [
    {
     "data": {
      "text/plain": [
       "(array([ 22., 131., 138., 630., 405., 215.,  49.,   4.,   4.,   2.]),\n",
       " array([-4518.23 , -3245.626, -1973.022,  -700.418,   572.186,  1844.79 ,\n",
       "         3117.394,  4389.998,  5662.602,  6935.206,  8207.81 ]),\n",
       " <a list of 10 Patch objects>)"
      ]
     },
     "execution_count": 98,
     "metadata": {},
     "output_type": "execute_result"
    },
    {
     "data": {
      "image/png": "[encoded data removed]",
      "text/plain": [
       "<matplotlib.figure.Figure at 0x1776874dda0>"
      ]
     },
     "metadata": {},
     "output_type": "display_data"
    }
   ],
   "source": [
    "plt.hist(gain)"
   ]
  },
  {
   "cell_type": "markdown",
   "metadata": {},
   "source": [
    "Let's see how the model works for the test set:"
   ]
  },
  {
   "cell_type": "code",
   "execution_count": 99,
   "metadata": {
    "collapsed": true
   },
   "outputs": [],
   "source": [
    "p1 = 0.7\n",
    "p2 = 0.75\n",
    "\n",
    "k1 = 0.88\n",
    "k2 = 1.11\n",
    "\n",
    "test_gain = []\n",
    "\n",
    "for i in range(3651, 3751):\n",
    "    test_gain.append(runEpisode1(i, p1, p2, k1, k2))"
   ]
  },
  {
   "cell_type": "code",
   "execution_count": 100,
   "metadata": {},
   "outputs": [
    {
     "name": "stdout",
     "output_type": "stream",
     "text": [
      "1437.2572000000002 1027.0561749398912\n"
     ]
    }
   ],
   "source": [
    "tg = np.array(test_gain)\n",
    "print (np.mean(tg), np.std(tg))"
   ]
  },
  {
   "cell_type": "code",
   "execution_count": 101,
   "metadata": {},
   "outputs": [
    {
     "data": {
      "text/plain": [
       "(array([26.,  4.,  3.,  3., 12., 16.,  4., 15., 15.,  2.]),\n",
       " array([   0.   ,  318.912,  637.824,  956.736, 1275.648, 1594.56 ,\n",
       "        1913.472, 2232.384, 2551.296, 2870.208, 3189.12 ]),\n",
       " <a list of 10 Patch objects>)"
      ]
     },
     "execution_count": 101,
     "metadata": {},
     "output_type": "execute_result"
    },
    {
     "data": {
      "image/png": "[encoded data removed]",
      "text/plain": [
       "<matplotlib.figure.Figure at 0x1776892fbe0>"
      ]
     },
     "metadata": {},
     "output_type": "display_data"
    }
   ],
   "source": [
    "plt.hist(test_gain)"
   ]
  },
  {
   "cell_type": "markdown",
   "metadata": {},
   "source": [
    "Much better than expected. In two years, the test data produce average total return of 14.37%"
   ]
  },
  {
   "cell_type": "markdown",
   "metadata": {},
   "source": [
    "## Model 2"
   ]
  },
  {
   "cell_type": "markdown",
   "metadata": {},
   "source": [
    "Let's try and add some memory. It doesn't matter how the Agent got to states S1 or S3. It starts from state S1. Afterwards it gets in state S1 if the price went high enough - it just sold any shares it had. Similarly, the Agent can get to state S3 only if the price drops sufficiently to justify purchase of the shares."
   ]
  },
  {
   "cell_type": "markdown",
   "metadata": {},
   "source": [
    "The previous state (kept in the variable flagPrev) matters in state S2 (half cash, half shares). If the Agent started from state S3 and the price continues to surge, we have all reasons to hope for a bull run. Then the Agent may be a little more aggressive, i.e. sell at slightly higher price compared to a case when it got to S2 from S1. Similarly, if the Agent started from state S1, then got to state S2, we could believe in a bear so the Agent would wait for even more attractive (low) price than if it got to S2 from S3. The exact level of \"even higher/lower price\" is determined by tuning parameters (k1, k2, k3, k4). Let's try this strategy! "
   ]
  },
  {
   "cell_type": "code",
   "execution_count": 103,
   "metadata": {
    "collapsed": true
   },
   "outputs": [],
   "source": [
    "def runEpisode2(ind, p1, p2, k1=0.95, k2=1.05, k3=0.9, k4=1.1, price=price, median=median, qu1=qu1, qu3=qu3):\n",
    "    cash = 10000\n",
    "    flag = 0 # 0 is state S1, 1 is state S2, 2 is state S3\n",
    "    nshares = 0\n",
    "    fee = 9.99\n",
    "    nmax = 507\n",
    "    flagPrev = None\n",
    "    \n",
    "    for i in range(ind, (ind+nmax-1)):\n",
    "        if price[i] < qu1[i]:\n",
    "            # Buy!\n",
    "            if flag == 0:\n",
    "                action = random.choices(['all', 'half'], [1-p1, p1]) # invest all the money or half the money\n",
    "                if action[0] == 'all':\n",
    "                    nshares = ((cash-fee)/price[i])//1\n",
    "                    cash = cash - nshares*price[i] - fee\n",
    "                    if nshares: flag = 2\n",
    "                else:\n",
    "                    nshares = math.ceil((0.5*cash)/price[i])\n",
    "                    cash = cash - nshares*price[i] - fee\n",
    "                    if nshares:\n",
    "                        flagPrev = 0\n",
    "                        flag = 1\n",
    "            elif flag == 1:\n",
    "                if flagPrev == 0:\n",
    "                    k = k3\n",
    "                else: k = k1\n",
    "                if price[i] < k*qu1[i]:\n",
    "                    n = ((cash-fee)/price[i])//1\n",
    "                    nshares += n\n",
    "                    cash = cash - n*price[i] - fee\n",
    "                    if n: flag = 2\n",
    "        elif price[i] > qu3[i]:\n",
    "            # Sell!\n",
    "            if flag == 2:\n",
    "                action = random.choices(['all', 'half'], [1-p2, p2]) # sell all the shares or half of them\n",
    "                if action[0] == 'all':\n",
    "                    cash = cash + nshares*price[i] - fee\n",
    "                    nshares = 0\n",
    "                    flag = 0\n",
    "                else:\n",
    "                    n = math.ceil(0.5*nshares)\n",
    "                    cash = cash + n*price[i] - fee\n",
    "                    nshares -= n\n",
    "                    if nshares:\n",
    "                        flagPrev = 2\n",
    "                        flag = 1\n",
    "                    else: flag = 0\n",
    "            elif flag == 1:\n",
    "                if flagPrev == 2:\n",
    "                    k = k4\n",
    "                else: k = k2  # flagPrev == 0 \n",
    "                if price[i] > k*qu3[i]:\n",
    "                    cash = cash + nshares*price[i] - fee\n",
    "                    nshares = 0\n",
    "                    flag = 0\n",
    "                    \n",
    "    if nshares:\n",
    "        cash = cash + nshares*price[ind+nmax-1] - fee\n",
    "    \n",
    "    return cash - 10000"
   ]
  },
  {
   "cell_type": "code",
   "execution_count": 143,
   "metadata": {},
   "outputs": [
    {
     "name": "stdout",
     "output_type": "stream",
     "text": [
      "425.9345073125005 29.761795871365187\n"
     ]
    }
   ],
   "source": [
    "p1 = 0.7\n",
    "p2 = 0.75\n",
    "\n",
    "k1 = 0.89\n",
    "k2 = 1.1\n",
    "k3 = 0.89\n",
    "k4 = 1.1\n",
    "\n",
    "av_gain = []\n",
    "for epoch in range(100):\n",
    "    gain = []\n",
    "    for ind in random.sample(range(3650), 1600):\n",
    "        gain.append(runEpisode2(ind, p1, p2, k1, k2, k3, k4))\n",
    "    g = np.array(gain)\n",
    "    av_gain.append(np.mean(g))\n",
    "    \n",
    "av = np.array(av_gain)\n",
    "print (np.mean(av), np.std(av))"
   ]
  },
  {
   "cell_type": "markdown",
   "metadata": {},
   "source": [
    "Don't forget: k3 is less than k1 and k4 is more than k2 e.g.\n",
    "\n",
    "k1=0.95, k2=1.05, k3=0.9, k4=1.1"
   ]
  },
  {
   "cell_type": "code",
   "execution_count": 144,
   "metadata": {},
   "outputs": [
    {
     "name": "stdout",
     "output_type": "stream",
     "text": [
      "416.5801526875007 28.59402009295011\n"
     ]
    }
   ],
   "source": [
    "p1 = 0.7\n",
    "p2 = 0.7\n",
    "\n",
    "k1 = 0.9\n",
    "k2 = 1.1\n",
    "k3 = 0.89\n",
    "k4 = 1.11\n",
    "\n",
    "av_gain = []\n",
    "for epoch in range(100):\n",
    "    gain = []\n",
    "    for ind in random.sample(range(3650), 1600):\n",
    "        gain.append(runEpisode2(ind, p1, p2, k1, k2, k3, k4))\n",
    "    g = np.array(gain)\n",
    "    av_gain.append(np.mean(g))\n",
    "    \n",
    "av = np.array(av_gain)\n",
    "print (np.mean(av), np.std(av))"
   ]
  },
  {
   "cell_type": "code",
   "execution_count": 145,
   "metadata": {},
   "outputs": [
    {
     "name": "stdout",
     "output_type": "stream",
     "text": [
      "420.41182762500046 29.500588077325453\n"
     ]
    }
   ],
   "source": [
    "p1 = 0.75\n",
    "p2 = 0.75\n",
    "\n",
    "k1 = 0.9\n",
    "k2 = 1.1\n",
    "k3 = 0.89\n",
    "k4 = 1.11\n",
    "\n",
    "av_gain = []\n",
    "for epoch in range(100):\n",
    "    gain = []\n",
    "    for ind in random.sample(range(3650), 1600):\n",
    "        gain.append(runEpisode2(ind, p1, p2, k1, k2, k3, k4))\n",
    "    g = np.array(gain)\n",
    "    av_gain.append(np.mean(g))\n",
    "    \n",
    "av = np.array(av_gain)\n",
    "print (np.mean(av), np.std(av))"
   ]
  },
  {
   "cell_type": "code",
   "execution_count": 146,
   "metadata": {},
   "outputs": [
    {
     "name": "stdout",
     "output_type": "stream",
     "text": [
      "423.7419291875007 30.020999878113713\n"
     ]
    }
   ],
   "source": [
    "p1 = 0.8\n",
    "p2 = 0.8\n",
    "\n",
    "k1 = 0.9\n",
    "k2 = 1.1\n",
    "k3 = 0.89\n",
    "k4 = 1.11\n",
    "\n",
    "av_gain = []\n",
    "for epoch in range(100):\n",
    "    gain = []\n",
    "    for ind in random.sample(range(3650), 1600):\n",
    "        gain.append(runEpisode2(ind, p1, p2, k1, k2, k3, k4))\n",
    "    g = np.array(gain)\n",
    "    av_gain.append(np.mean(g))\n",
    "    \n",
    "av = np.array(av_gain)\n",
    "print (np.mean(av), np.std(av))"
   ]
  },
  {
   "cell_type": "code",
   "execution_count": 147,
   "metadata": {},
   "outputs": [
    {
     "name": "stdout",
     "output_type": "stream",
     "text": [
      "418.00359593750056 30.581797799403027\n"
     ]
    }
   ],
   "source": [
    "p1 = 0.85\n",
    "p2 = 0.85\n",
    "\n",
    "k1 = 0.9\n",
    "k2 = 1.1\n",
    "k3 = 0.89\n",
    "k4 = 1.11\n",
    "\n",
    "av_gain = []\n",
    "for epoch in range(100):\n",
    "    gain = []\n",
    "    for ind in random.sample(range(3650), 1600):\n",
    "        gain.append(runEpisode2(ind, p1, p2, k1, k2, k3, k4))\n",
    "    g = np.array(gain)\n",
    "    av_gain.append(np.mean(g))\n",
    "    \n",
    "av = np.array(av_gain)\n",
    "print (np.mean(av), np.std(av))"
   ]
  },
  {
   "cell_type": "code",
   "execution_count": 148,
   "metadata": {},
   "outputs": [
    {
     "name": "stdout",
     "output_type": "stream",
     "text": [
      "414.1169688750006 30.43493769415107\n"
     ]
    }
   ],
   "source": [
    "p1 = 0.9\n",
    "p2 = 0.9\n",
    "\n",
    "k1 = 0.9\n",
    "k2 = 1.1\n",
    "k3 = 0.89\n",
    "k4 = 1.11\n",
    "\n",
    "av_gain = []\n",
    "for epoch in range(100):\n",
    "    gain = []\n",
    "    for ind in random.sample(range(3650), 1600):\n",
    "        gain.append(runEpisode2(ind, p1, p2, k1, k2, k3, k4))\n",
    "    g = np.array(gain)\n",
    "    av_gain.append(np.mean(g))\n",
    "    \n",
    "av = np.array(av_gain)\n",
    "print (np.mean(av), np.std(av))"
   ]
  },
  {
   "cell_type": "code",
   "execution_count": 149,
   "metadata": {},
   "outputs": [
    {
     "name": "stdout",
     "output_type": "stream",
     "text": [
      "413.29727000000065 24.711489025453407\n"
     ]
    }
   ],
   "source": [
    "p1 = 1.0\n",
    "p2 = 1.0\n",
    "\n",
    "k1 = 0.9\n",
    "k2 = 1.1\n",
    "k3 = 0.89\n",
    "k4 = 1.11\n",
    "\n",
    "av_gain = []\n",
    "for epoch in range(100):\n",
    "    gain = []\n",
    "    for ind in random.sample(range(3650), 1600):\n",
    "        gain.append(runEpisode2(ind, p1, p2, k1, k2, k3, k4))\n",
    "    g = np.array(gain)\n",
    "    av_gain.append(np.mean(g))\n",
    "    \n",
    "av = np.array(av_gain)\n",
    "print (np.mean(av), np.std(av))"
   ]
  },
  {
   "cell_type": "code",
   "execution_count": 150,
   "metadata": {},
   "outputs": [
    {
     "name": "stdout",
     "output_type": "stream",
     "text": [
      "417.49766543750064 28.54886238777704\n"
     ]
    }
   ],
   "source": [
    "p1 = 0.6\n",
    "p2 = 0.6\n",
    "\n",
    "k1 = 0.9\n",
    "k2 = 1.1\n",
    "k3 = 0.89\n",
    "k4 = 1.11\n",
    "\n",
    "av_gain = []\n",
    "for epoch in range(100):\n",
    "    gain = []\n",
    "    for ind in random.sample(range(3650), 1600):\n",
    "        gain.append(runEpisode2(ind, p1, p2, k1, k2, k3, k4))\n",
    "    g = np.array(gain)\n",
    "    av_gain.append(np.mean(g))\n",
    "    \n",
    "av = np.array(av_gain)\n",
    "print (np.mean(av), np.std(av))"
   ]
  },
  {
   "cell_type": "code",
   "execution_count": 151,
   "metadata": {},
   "outputs": [
    {
     "name": "stdout",
     "output_type": "stream",
     "text": [
      "416.7075870000006 31.095156525419856\n"
     ]
    }
   ],
   "source": [
    "p1 = 0.5\n",
    "p2 = 0.5\n",
    "\n",
    "k1 = 0.9\n",
    "k2 = 1.1\n",
    "k3 = 0.89\n",
    "k4 = 1.11\n",
    "\n",
    "av_gain = []\n",
    "for epoch in range(100):\n",
    "    gain = []\n",
    "    for ind in random.sample(range(3650), 1600):\n",
    "        gain.append(runEpisode2(ind, p1, p2, k1, k2, k3, k4))\n",
    "    g = np.array(gain)\n",
    "    av_gain.append(np.mean(g))\n",
    "    \n",
    "av = np.array(av_gain)\n",
    "print (np.mean(av), np.std(av))"
   ]
  },
  {
   "cell_type": "code",
   "execution_count": 152,
   "metadata": {},
   "outputs": [
    {
     "name": "stdout",
     "output_type": "stream",
     "text": [
      "402.1544803125006 31.68076096471199\n"
     ]
    }
   ],
   "source": [
    "p1 = 0.4\n",
    "p2 = 0.4\n",
    "\n",
    "k1 = 0.9\n",
    "k2 = 1.1\n",
    "k3 = 0.89\n",
    "k4 = 1.11\n",
    "\n",
    "av_gain = []\n",
    "for epoch in range(100):\n",
    "    gain = []\n",
    "    for ind in random.sample(range(3650), 1600):\n",
    "        gain.append(runEpisode2(ind, p1, p2, k1, k2, k3, k4))\n",
    "    g = np.array(gain)\n",
    "    av_gain.append(np.mean(g))\n",
    "    \n",
    "av = np.array(av_gain)\n",
    "print (np.mean(av), np.std(av))"
   ]
  },
  {
   "cell_type": "code",
   "execution_count": 153,
   "metadata": {},
   "outputs": [
    {
     "name": "stdout",
     "output_type": "stream",
     "text": [
      "381.2771198125007 33.88790257720996\n"
     ]
    }
   ],
   "source": [
    "p1 = 0.3\n",
    "p2 = 0.3\n",
    "\n",
    "k1 = 0.9\n",
    "k2 = 1.1\n",
    "k3 = 0.89\n",
    "k4 = 1.11\n",
    "\n",
    "av_gain = []\n",
    "for epoch in range(100):\n",
    "    gain = []\n",
    "    for ind in random.sample(range(3650), 1600):\n",
    "        gain.append(runEpisode2(ind, p1, p2, k1, k2, k3, k4))\n",
    "    g = np.array(gain)\n",
    "    av_gain.append(np.mean(g))\n",
    "    \n",
    "av = np.array(av_gain)\n",
    "print (np.mean(av), np.std(av))"
   ]
  },
  {
   "cell_type": "code",
   "execution_count": 154,
   "metadata": {},
   "outputs": [
    {
     "name": "stdout",
     "output_type": "stream",
     "text": [
      "353.2582431875006 30.816114124313675\n"
     ]
    }
   ],
   "source": [
    "p1 = 0.2\n",
    "p2 = 0.2\n",
    "\n",
    "k1 = 0.9\n",
    "k2 = 1.1\n",
    "k3 = 0.89\n",
    "k4 = 1.11\n",
    "\n",
    "av_gain = []\n",
    "for epoch in range(100):\n",
    "    gain = []\n",
    "    for ind in random.sample(range(3650), 1600):\n",
    "        gain.append(runEpisode2(ind, p1, p2, k1, k2, k3, k4))\n",
    "    g = np.array(gain)\n",
    "    av_gain.append(np.mean(g))\n",
    "    \n",
    "av = np.array(av_gain)\n",
    "print (np.mean(av), np.std(av))"
   ]
  },
  {
   "cell_type": "code",
   "execution_count": 155,
   "metadata": {},
   "outputs": [
    {
     "name": "stdout",
     "output_type": "stream",
     "text": [
      "304.4873194375007 31.121329142727728\n"
     ]
    }
   ],
   "source": [
    "p1 = 0.1\n",
    "p2 = 0.1\n",
    "\n",
    "k1 = 0.9\n",
    "k2 = 1.1\n",
    "k3 = 0.89\n",
    "k4 = 1.11\n",
    "\n",
    "av_gain = []\n",
    "for epoch in range(100):\n",
    "    gain = []\n",
    "    for ind in random.sample(range(3650), 1600):\n",
    "        gain.append(runEpisode2(ind, p1, p2, k1, k2, k3, k4))\n",
    "    g = np.array(gain)\n",
    "    av_gain.append(np.mean(g))\n",
    "    \n",
    "av = np.array(av_gain)\n",
    "print (np.mean(av), np.std(av))"
   ]
  },
  {
   "cell_type": "code",
   "execution_count": 156,
   "metadata": {},
   "outputs": [
    {
     "name": "stdout",
     "output_type": "stream",
     "text": [
      "236.8217838750007 29.288509386148522\n"
     ]
    }
   ],
   "source": [
    "p1 = 0\n",
    "p2 = 0\n",
    "\n",
    "k1 = 0.9\n",
    "k2 = 1.1\n",
    "k3 = 0.89\n",
    "k4 = 1.11\n",
    "\n",
    "av_gain = []\n",
    "for epoch in range(100):\n",
    "    gain = []\n",
    "    for ind in random.sample(range(3650), 1600):\n",
    "        gain.append(runEpisode2(ind, p1, p2, k1, k2, k3, k4))\n",
    "    g = np.array(gain)\n",
    "    av_gain.append(np.mean(g))\n",
    "    \n",
    "av = np.array(av_gain)\n",
    "print (np.mean(av), np.std(av))"
   ]
  },
  {
   "cell_type": "code",
   "execution_count": 157,
   "metadata": {},
   "outputs": [
    {
     "name": "stdout",
     "output_type": "stream",
     "text": [
      "414.1795519375006 31.509399437677907\n"
     ]
    }
   ],
   "source": [
    "p1 = 0.8\n",
    "p2 = 0.8\n",
    "\n",
    "k1 = 0.9\n",
    "k2 = 1.1\n",
    "k3 = 0.89\n",
    "k4 = 1.11\n",
    "\n",
    "av_gain = []\n",
    "for epoch in range(100):\n",
    "    gain = []\n",
    "    for ind in random.sample(range(3650), 1600):\n",
    "        gain.append(runEpisode2(ind, p1, p2, k1, k2, k3, k4))\n",
    "    g = np.array(gain)\n",
    "    av_gain.append(np.mean(g))\n",
    "    \n",
    "av = np.array(av_gain)\n",
    "print (np.mean(av), np.std(av))"
   ]
  },
  {
   "cell_type": "code",
   "execution_count": 158,
   "metadata": {},
   "outputs": [
    {
     "name": "stdout",
     "output_type": "stream",
     "text": [
      "356.5940596875004 29.3436635223517\n"
     ]
    }
   ],
   "source": [
    "p1 = 0.8\n",
    "p2 = 0.8\n",
    "\n",
    "k1 = 0.92\n",
    "k2 = 1.08\n",
    "k3 = 0.89\n",
    "k4 = 1.11\n",
    "\n",
    "av_gain = []\n",
    "for epoch in range(100):\n",
    "    gain = []\n",
    "    for ind in random.sample(range(3650), 1600):\n",
    "        gain.append(runEpisode2(ind, p1, p2, k1, k2, k3, k4))\n",
    "    g = np.array(gain)\n",
    "    av_gain.append(np.mean(g))\n",
    "    \n",
    "av = np.array(av_gain)\n",
    "print (np.mean(av), np.std(av))"
   ]
  },
  {
   "cell_type": "code",
   "execution_count": 159,
   "metadata": {},
   "outputs": [
    {
     "name": "stdout",
     "output_type": "stream",
     "text": [
      "278.3593217500004 26.934158734968403\n"
     ]
    }
   ],
   "source": [
    "p1 = 0.8\n",
    "p2 = 0.8\n",
    "\n",
    "k1 = 0.94\n",
    "k2 = 1.06\n",
    "k3 = 0.89\n",
    "k4 = 1.11\n",
    "\n",
    "av_gain = []\n",
    "for epoch in range(100):\n",
    "    gain = []\n",
    "    for ind in random.sample(range(3650), 1600):\n",
    "        gain.append(runEpisode2(ind, p1, p2, k1, k2, k3, k4))\n",
    "    g = np.array(gain)\n",
    "    av_gain.append(np.mean(g))\n",
    "    \n",
    "av = np.array(av_gain)\n",
    "print (np.mean(av), np.std(av))"
   ]
  },
  {
   "cell_type": "code",
   "execution_count": 160,
   "metadata": {},
   "outputs": [
    {
     "name": "stdout",
     "output_type": "stream",
     "text": [
      "202.1537525000005 30.96656594273643\n"
     ]
    }
   ],
   "source": [
    "p1 = 0.8\n",
    "p2 = 0.8\n",
    "\n",
    "k1 = 0.96\n",
    "k2 = 1.04\n",
    "k3 = 0.89\n",
    "k4 = 1.11\n",
    "\n",
    "av_gain = []\n",
    "for epoch in range(100):\n",
    "    gain = []\n",
    "    for ind in random.sample(range(3650), 1600):\n",
    "        gain.append(runEpisode2(ind, p1, p2, k1, k2, k3, k4))\n",
    "    g = np.array(gain)\n",
    "    av_gain.append(np.mean(g))\n",
    "    \n",
    "av = np.array(av_gain)\n",
    "print (np.mean(av), np.std(av))"
   ]
  },
  {
   "cell_type": "code",
   "execution_count": 161,
   "metadata": {},
   "outputs": [
    {
     "name": "stdout",
     "output_type": "stream",
     "text": [
      "123.38177206250054 26.18678793667873\n"
     ]
    }
   ],
   "source": [
    "p1 = 0.8\n",
    "p2 = 0.8\n",
    "\n",
    "k1 = 0.98\n",
    "k2 = 1.02\n",
    "k3 = 0.89\n",
    "k4 = 1.11\n",
    "\n",
    "av_gain = []\n",
    "for epoch in range(100):\n",
    "    gain = []\n",
    "    for ind in random.sample(range(3650), 1600):\n",
    "        gain.append(runEpisode2(ind, p1, p2, k1, k2, k3, k4))\n",
    "    g = np.array(gain)\n",
    "    av_gain.append(np.mean(g))\n",
    "    \n",
    "av = np.array(av_gain)\n",
    "print (np.mean(av), np.std(av))"
   ]
  },
  {
   "cell_type": "code",
   "execution_count": 162,
   "metadata": {},
   "outputs": [
    {
     "name": "stdout",
     "output_type": "stream",
     "text": [
      "418.29361006250065 32.31189817062963\n"
     ]
    }
   ],
   "source": [
    "p1 = 0.8\n",
    "p2 = 0.8\n",
    "\n",
    "k1 = 0.9\n",
    "k2 = 1.1\n",
    "k3 = 0.89\n",
    "k4 = 1.11\n",
    "\n",
    "av_gain = []\n",
    "for epoch in range(100):\n",
    "    gain = []\n",
    "    for ind in random.sample(range(3650), 1600):\n",
    "        gain.append(runEpisode2(ind, p1, p2, k1, k2, k3, k4))\n",
    "    g = np.array(gain)\n",
    "    av_gain.append(np.mean(g))\n",
    "    \n",
    "av = np.array(av_gain)\n",
    "print (np.mean(av), np.std(av))"
   ]
  },
  {
   "cell_type": "code",
   "execution_count": 163,
   "metadata": {},
   "outputs": [
    {
     "name": "stdout",
     "output_type": "stream",
     "text": [
      "427.0429702500007 29.292952156130195\n"
     ]
    }
   ],
   "source": [
    "p1 = 0.8\n",
    "p2 = 0.8\n",
    "\n",
    "k1 = 0.9\n",
    "k2 = 1.1\n",
    "k3 = 0.88\n",
    "k4 = 1.12\n",
    "\n",
    "av_gain = []\n",
    "for epoch in range(100):\n",
    "    gain = []\n",
    "    for ind in random.sample(range(3650), 1600):\n",
    "        gain.append(runEpisode2(ind, p1, p2, k1, k2, k3, k4))\n",
    "    g = np.array(gain)\n",
    "    av_gain.append(np.mean(g))\n",
    "    \n",
    "av = np.array(av_gain)\n",
    "print (np.mean(av), np.std(av))"
   ]
  },
  {
   "cell_type": "code",
   "execution_count": 164,
   "metadata": {},
   "outputs": [
    {
     "name": "stdout",
     "output_type": "stream",
     "text": [
      "428.14348962500065 28.139632154763284\n"
     ]
    }
   ],
   "source": [
    "p1 = 0.8\n",
    "p2 = 0.8\n",
    "\n",
    "k1 = 0.9\n",
    "k2 = 1.1\n",
    "k3 = 0.87\n",
    "k4 = 1.13\n",
    "\n",
    "av_gain = []\n",
    "for epoch in range(100):\n",
    "    gain = []\n",
    "    for ind in random.sample(range(3650), 1600):\n",
    "        gain.append(runEpisode2(ind, p1, p2, k1, k2, k3, k4))\n",
    "    g = np.array(gain)\n",
    "    av_gain.append(np.mean(g))\n",
    "    \n",
    "av = np.array(av_gain)\n",
    "print (np.mean(av), np.std(av))"
   ]
  },
  {
   "cell_type": "code",
   "execution_count": 165,
   "metadata": {},
   "outputs": [
    {
     "name": "stdout",
     "output_type": "stream",
     "text": [
      "432.05655893750054 28.003424450999198\n"
     ]
    }
   ],
   "source": [
    "p1 = 0.8\n",
    "p2 = 0.8\n",
    "\n",
    "k1 = 0.9\n",
    "k2 = 1.1\n",
    "k3 = 0.86\n",
    "k4 = 1.14\n",
    "\n",
    "av_gain = []\n",
    "for epoch in range(100):\n",
    "    gain = []\n",
    "    for ind in random.sample(range(3650), 1600):\n",
    "        gain.append(runEpisode2(ind, p1, p2, k1, k2, k3, k4))\n",
    "    g = np.array(gain)\n",
    "    av_gain.append(np.mean(g))\n",
    "    \n",
    "av = np.array(av_gain)\n",
    "print (np.mean(av), np.std(av))"
   ]
  },
  {
   "cell_type": "code",
   "execution_count": 166,
   "metadata": {},
   "outputs": [
    {
     "name": "stdout",
     "output_type": "stream",
     "text": [
      "459.8910850625005 25.268940338898133\n"
     ]
    }
   ],
   "source": [
    "p1 = 0.8\n",
    "p2 = 0.8\n",
    "\n",
    "k1 = 0.9\n",
    "k2 = 1.1\n",
    "k3 = 0.85\n",
    "k4 = 1.15\n",
    "\n",
    "av_gain = []\n",
    "for epoch in range(100):\n",
    "    gain = []\n",
    "    for ind in random.sample(range(3650), 1600):\n",
    "        gain.append(runEpisode2(ind, p1, p2, k1, k2, k3, k4))\n",
    "    g = np.array(gain)\n",
    "    av_gain.append(np.mean(g))\n",
    "    \n",
    "av = np.array(av_gain)\n",
    "print (np.mean(av), np.std(av))"
   ]
  },
  {
   "cell_type": "code",
   "execution_count": 167,
   "metadata": {},
   "outputs": [
    {
     "name": "stdout",
     "output_type": "stream",
     "text": [
      "465.80310275000056 28.313835089758616\n"
     ]
    }
   ],
   "source": [
    "p1 = 0.8\n",
    "p2 = 0.8\n",
    "\n",
    "k1 = 0.9\n",
    "k2 = 1.1\n",
    "k3 = 0.84\n",
    "k4 = 1.16\n",
    "\n",
    "av_gain = []\n",
    "for epoch in range(100):\n",
    "    gain = []\n",
    "    for ind in random.sample(range(3650), 1600):\n",
    "        gain.append(runEpisode2(ind, p1, p2, k1, k2, k3, k4))\n",
    "    g = np.array(gain)\n",
    "    av_gain.append(np.mean(g))\n",
    "    \n",
    "av = np.array(av_gain)\n",
    "print (np.mean(av), np.std(av))"
   ]
  },
  {
   "cell_type": "code",
   "execution_count": 168,
   "metadata": {},
   "outputs": [
    {
     "name": "stdout",
     "output_type": "stream",
     "text": [
      "466.5178156250006 29.507529799805432\n"
     ]
    }
   ],
   "source": [
    "p1 = 0.8\n",
    "p2 = 0.8\n",
    "\n",
    "k1 = 0.9\n",
    "k2 = 1.1\n",
    "k3 = 0.83\n",
    "k4 = 1.17\n",
    "\n",
    "av_gain = []\n",
    "for epoch in range(100):\n",
    "    gain = []\n",
    "    for ind in random.sample(range(3650), 1600):\n",
    "        gain.append(runEpisode2(ind, p1, p2, k1, k2, k3, k4))\n",
    "    g = np.array(gain)\n",
    "    av_gain.append(np.mean(g))\n",
    "    \n",
    "av = np.array(av_gain)\n",
    "print (np.mean(av), np.std(av))"
   ]
  },
  {
   "cell_type": "code",
   "execution_count": 169,
   "metadata": {},
   "outputs": [
    {
     "name": "stdout",
     "output_type": "stream",
     "text": [
      "507.9058956875005 26.149910125529704\n"
     ]
    }
   ],
   "source": [
    "p1 = 0.8\n",
    "p2 = 0.8\n",
    "\n",
    "k1 = 0.9\n",
    "k2 = 1.1\n",
    "k3 = 0.82\n",
    "k4 = 1.18\n",
    "\n",
    "av_gain = []\n",
    "for epoch in range(100):\n",
    "    gain = []\n",
    "    for ind in random.sample(range(3650), 1600):\n",
    "        gain.append(runEpisode2(ind, p1, p2, k1, k2, k3, k4))\n",
    "    g = np.array(gain)\n",
    "    av_gain.append(np.mean(g))\n",
    "    \n",
    "av = np.array(av_gain)\n",
    "print (np.mean(av), np.std(av))"
   ]
  },
  {
   "cell_type": "code",
   "execution_count": 170,
   "metadata": {},
   "outputs": [
    {
     "name": "stdout",
     "output_type": "stream",
     "text": [
      "508.43979906250047 23.193786660751822\n"
     ]
    }
   ],
   "source": [
    "p1 = 0.8\n",
    "p2 = 0.8\n",
    "\n",
    "k1 = 0.9\n",
    "k2 = 1.1\n",
    "k3 = 0.81\n",
    "k4 = 1.19\n",
    "\n",
    "av_gain = []\n",
    "for epoch in range(100):\n",
    "    gain = []\n",
    "    for ind in random.sample(range(3650), 1600):\n",
    "        gain.append(runEpisode2(ind, p1, p2, k1, k2, k3, k4))\n",
    "    g = np.array(gain)\n",
    "    av_gain.append(np.mean(g))\n",
    "    \n",
    "av = np.array(av_gain)\n",
    "print (np.mean(av), np.std(av))"
   ]
  },
  {
   "cell_type": "code",
   "execution_count": 171,
   "metadata": {},
   "outputs": [
    {
     "name": "stdout",
     "output_type": "stream",
     "text": [
      "524.4952937500005 26.665679814769927\n"
     ]
    }
   ],
   "source": [
    "p1 = 0.8\n",
    "p2 = 0.8\n",
    "\n",
    "k1 = 0.9\n",
    "k2 = 1.1\n",
    "k3 = 0.8\n",
    "k4 = 1.2\n",
    "\n",
    "av_gain = []\n",
    "for epoch in range(100):\n",
    "    gain = []\n",
    "    for ind in random.sample(range(3650), 1600):\n",
    "        gain.append(runEpisode2(ind, p1, p2, k1, k2, k3, k4))\n",
    "    g = np.array(gain)\n",
    "    av_gain.append(np.mean(g))\n",
    "    \n",
    "av = np.array(av_gain)\n",
    "print (np.mean(av), np.std(av))"
   ]
  },
  {
   "cell_type": "code",
   "execution_count": 172,
   "metadata": {},
   "outputs": [
    {
     "name": "stdout",
     "output_type": "stream",
     "text": [
      "524.1322154375005 25.73827312149266\n"
     ]
    }
   ],
   "source": [
    "p1 = 0.8\n",
    "p2 = 0.8\n",
    "\n",
    "k1 = 0.9\n",
    "k2 = 1.1\n",
    "k3 = 0.79\n",
    "k4 = 1.21\n",
    "\n",
    "av_gain = []\n",
    "for epoch in range(100):\n",
    "    gain = []\n",
    "    for ind in random.sample(range(3650), 1600):\n",
    "        gain.append(runEpisode2(ind, p1, p2, k1, k2, k3, k4))\n",
    "    g = np.array(gain)\n",
    "    av_gain.append(np.mean(g))\n",
    "    \n",
    "av = np.array(av_gain)\n",
    "print (np.mean(av), np.std(av))"
   ]
  },
  {
   "cell_type": "code",
   "execution_count": 173,
   "metadata": {},
   "outputs": [
    {
     "name": "stdout",
     "output_type": "stream",
     "text": [
      "535.7352673750005 22.856104194652225\n"
     ]
    }
   ],
   "source": [
    "p1 = 0.8\n",
    "p2 = 0.8\n",
    "\n",
    "k1 = 0.9\n",
    "k2 = 1.1\n",
    "k3 = 0.78\n",
    "k4 = 1.22\n",
    "\n",
    "av_gain = []\n",
    "for epoch in range(100):\n",
    "    gain = []\n",
    "    for ind in random.sample(range(3650), 1600):\n",
    "        gain.append(runEpisode2(ind, p1, p2, k1, k2, k3, k4))\n",
    "    g = np.array(gain)\n",
    "    av_gain.append(np.mean(g))\n",
    "    \n",
    "av = np.array(av_gain)\n",
    "print (np.mean(av), np.std(av))"
   ]
  },
  {
   "cell_type": "code",
   "execution_count": 174,
   "metadata": {},
   "outputs": [
    {
     "name": "stdout",
     "output_type": "stream",
     "text": [
      "545.5250563125005 27.31421228741378\n"
     ]
    }
   ],
   "source": [
    "p1 = 0.8\n",
    "p2 = 0.8\n",
    "\n",
    "k1 = 0.9\n",
    "k2 = 1.1\n",
    "k3 = 0.77\n",
    "k4 = 1.23\n",
    "\n",
    "av_gain = []\n",
    "for epoch in range(100):\n",
    "    gain = []\n",
    "    for ind in random.sample(range(3650), 1600):\n",
    "        gain.append(runEpisode2(ind, p1, p2, k1, k2, k3, k4))\n",
    "    g = np.array(gain)\n",
    "    av_gain.append(np.mean(g))\n",
    "    \n",
    "av = np.array(av_gain)\n",
    "print (np.mean(av), np.std(av))"
   ]
  },
  {
   "cell_type": "code",
   "execution_count": 175,
   "metadata": {},
   "outputs": [
    {
     "name": "stdout",
     "output_type": "stream",
     "text": [
      "572.6880870625006 23.71564372927533\n"
     ]
    }
   ],
   "source": [
    "p1 = 0.8\n",
    "p2 = 0.8\n",
    "\n",
    "k1 = 0.9\n",
    "k2 = 1.1\n",
    "k3 = 0.76\n",
    "k4 = 1.24\n",
    "\n",
    "av_gain = []\n",
    "for epoch in range(100):\n",
    "    gain = []\n",
    "    for ind in random.sample(range(3650), 1600):\n",
    "        gain.append(runEpisode2(ind, p1, p2, k1, k2, k3, k4))\n",
    "    g = np.array(gain)\n",
    "    av_gain.append(np.mean(g))\n",
    "    \n",
    "av = np.array(av_gain)\n",
    "print (np.mean(av), np.std(av))"
   ]
  },
  {
   "cell_type": "code",
   "execution_count": 176,
   "metadata": {},
   "outputs": [
    {
     "name": "stdout",
     "output_type": "stream",
     "text": [
      "581.3997704375006 22.564957256316823\n"
     ]
    }
   ],
   "source": [
    "p1 = 0.8\n",
    "p2 = 0.8\n",
    "\n",
    "k1 = 0.9\n",
    "k2 = 1.1\n",
    "k3 = 0.75\n",
    "k4 = 1.25\n",
    "\n",
    "av_gain = []\n",
    "for epoch in range(100):\n",
    "    gain = []\n",
    "    for ind in random.sample(range(3650), 1600):\n",
    "        gain.append(runEpisode2(ind, p1, p2, k1, k2, k3, k4))\n",
    "    g = np.array(gain)\n",
    "    av_gain.append(np.mean(g))\n",
    "    \n",
    "av = np.array(av_gain)\n",
    "print (np.mean(av), np.std(av))"
   ]
  },
  {
   "cell_type": "code",
   "execution_count": 177,
   "metadata": {},
   "outputs": [
    {
     "name": "stdout",
     "output_type": "stream",
     "text": [
      "538.5901440000005 24.85197219782899\n"
     ]
    }
   ],
   "source": [
    "p1 = 0.8\n",
    "p2 = 0.8\n",
    "\n",
    "k1 = 0.9\n",
    "k2 = 1.1\n",
    "k3 = 0.74\n",
    "k4 = 1.26\n",
    "\n",
    "av_gain = []\n",
    "for epoch in range(100):\n",
    "    gain = []\n",
    "    for ind in random.sample(range(3650), 1600):\n",
    "        gain.append(runEpisode2(ind, p1, p2, k1, k2, k3, k4))\n",
    "    g = np.array(gain)\n",
    "    av_gain.append(np.mean(g))\n",
    "    \n",
    "av = np.array(av_gain)\n",
    "print (np.mean(av), np.std(av))"
   ]
  },
  {
   "cell_type": "code",
   "execution_count": 178,
   "metadata": {},
   "outputs": [
    {
     "name": "stdout",
     "output_type": "stream",
     "text": [
      "530.9943238750005 27.705558593970206\n"
     ]
    }
   ],
   "source": [
    "p1 = 0.8\n",
    "p2 = 0.8\n",
    "\n",
    "k1 = 0.9\n",
    "k2 = 1.1\n",
    "k3 = 0.73\n",
    "k4 = 1.27\n",
    "\n",
    "av_gain = []\n",
    "for epoch in range(100):\n",
    "    gain = []\n",
    "    for ind in random.sample(range(3650), 1600):\n",
    "        gain.append(runEpisode2(ind, p1, p2, k1, k2, k3, k4))\n",
    "    g = np.array(gain)\n",
    "    av_gain.append(np.mean(g))\n",
    "    \n",
    "av = np.array(av_gain)\n",
    "print (np.mean(av), np.std(av))"
   ]
  },
  {
   "cell_type": "code",
   "execution_count": 179,
   "metadata": {},
   "outputs": [
    {
     "name": "stdout",
     "output_type": "stream",
     "text": [
      "537.8203551875006 26.527506763989066\n"
     ]
    }
   ],
   "source": [
    "p1 = 0.8\n",
    "p2 = 0.8\n",
    "\n",
    "k1 = 0.9\n",
    "k2 = 1.1\n",
    "k3 = 0.72\n",
    "k4 = 1.28\n",
    "\n",
    "av_gain = []\n",
    "for epoch in range(100):\n",
    "    gain = []\n",
    "    for ind in random.sample(range(3650), 1600):\n",
    "        gain.append(runEpisode2(ind, p1, p2, k1, k2, k3, k4))\n",
    "    g = np.array(gain)\n",
    "    av_gain.append(np.mean(g))\n",
    "    \n",
    "av = np.array(av_gain)\n",
    "print (np.mean(av), np.std(av))"
   ]
  },
  {
   "cell_type": "code",
   "execution_count": 180,
   "metadata": {},
   "outputs": [
    {
     "name": "stdout",
     "output_type": "stream",
     "text": [
      "538.0000807500005 24.895987152795197\n"
     ]
    }
   ],
   "source": [
    "p1 = 0.8\n",
    "p2 = 0.8\n",
    "\n",
    "k1 = 0.9\n",
    "k2 = 1.1\n",
    "k3 = 0.71\n",
    "k4 = 1.29\n",
    "\n",
    "av_gain = []\n",
    "for epoch in range(100):\n",
    "    gain = []\n",
    "    for ind in random.sample(range(3650), 1600):\n",
    "        gain.append(runEpisode2(ind, p1, p2, k1, k2, k3, k4))\n",
    "    g = np.array(gain)\n",
    "    av_gain.append(np.mean(g))\n",
    "    \n",
    "av = np.array(av_gain)\n",
    "print (np.mean(av), np.std(av))"
   ]
  },
  {
   "cell_type": "code",
   "execution_count": 181,
   "metadata": {},
   "outputs": [
    {
     "name": "stdout",
     "output_type": "stream",
     "text": [
      "555.9281778750005 22.77903660586985\n"
     ]
    }
   ],
   "source": [
    "p1 = 0.8\n",
    "p2 = 0.8\n",
    "\n",
    "k1 = 0.9\n",
    "k2 = 1.1\n",
    "k3 = 0.7\n",
    "k4 = 1.3\n",
    "\n",
    "av_gain = []\n",
    "for epoch in range(100):\n",
    "    gain = []\n",
    "    for ind in random.sample(range(3650), 1600):\n",
    "        gain.append(runEpisode2(ind, p1, p2, k1, k2, k3, k4))\n",
    "    g = np.array(gain)\n",
    "    av_gain.append(np.mean(g))\n",
    "    \n",
    "av = np.array(av_gain)\n",
    "print (np.mean(av), np.std(av))"
   ]
  },
  {
   "cell_type": "code",
   "execution_count": 182,
   "metadata": {},
   "outputs": [
    {
     "name": "stdout",
     "output_type": "stream",
     "text": [
      "560.0171526250006 23.908923196975433\n"
     ]
    }
   ],
   "source": [
    "p1 = 0.8\n",
    "p2 = 0.8\n",
    "\n",
    "k1 = 0.9\n",
    "k2 = 1.1\n",
    "k3 = 0.7\n",
    "k4 = 1.3\n",
    "\n",
    "av_gain = []\n",
    "for epoch in range(100):\n",
    "    gain = []\n",
    "    for ind in random.sample(range(3650), 1600):\n",
    "        gain.append(runEpisode2(ind, p1, p2, k1, k2, k3, k4))\n",
    "    g = np.array(gain)\n",
    "    av_gain.append(np.mean(g))\n",
    "    \n",
    "av = np.array(av_gain)\n",
    "print (np.mean(av), np.std(av))"
   ]
  },
  {
   "cell_type": "code",
   "execution_count": 183,
   "metadata": {},
   "outputs": [
    {
     "name": "stdout",
     "output_type": "stream",
     "text": [
      "581.3813361250006 27.97498524018431\n"
     ]
    }
   ],
   "source": [
    "p1 = 0.8\n",
    "p2 = 0.8\n",
    "\n",
    "k1 = 0.9\n",
    "k2 = 1.1\n",
    "k3 = 0.75\n",
    "k4 = 1.25\n",
    "\n",
    "av_gain = []\n",
    "for epoch in range(100):\n",
    "    gain = []\n",
    "    for ind in random.sample(range(3650), 1600):\n",
    "        gain.append(runEpisode2(ind, p1, p2, k1, k2, k3, k4))\n",
    "    g = np.array(gain)\n",
    "    av_gain.append(np.mean(g))\n",
    "    \n",
    "av = np.array(av_gain)\n",
    "print (np.mean(av), np.std(av))"
   ]
  },
  {
   "cell_type": "code",
   "execution_count": 184,
   "metadata": {},
   "outputs": [
    {
     "name": "stdout",
     "output_type": "stream",
     "text": [
      "539.7035218125005 25.30684404345853\n"
     ]
    }
   ],
   "source": [
    "p1 = 0.8\n",
    "p2 = 0.8\n",
    "\n",
    "k1 = 0.89\n",
    "k2 = 1.09\n",
    "k3 = 0.75\n",
    "k4 = 1.25\n",
    "\n",
    "av_gain = []\n",
    "for epoch in range(100):\n",
    "    gain = []\n",
    "    for ind in random.sample(range(3650), 1600):\n",
    "        gain.append(runEpisode2(ind, p1, p2, k1, k2, k3, k4))\n",
    "    g = np.array(gain)\n",
    "    av_gain.append(np.mean(g))\n",
    "    \n",
    "av = np.array(av_gain)\n",
    "print (np.mean(av), np.std(av))"
   ]
  },
  {
   "cell_type": "code",
   "execution_count": 185,
   "metadata": {},
   "outputs": [
    {
     "name": "stdout",
     "output_type": "stream",
     "text": [
      "495.1576170625005 21.170027057462526\n"
     ]
    }
   ],
   "source": [
    "p1 = 0.8\n",
    "p2 = 0.8\n",
    "\n",
    "k1 = 0.88\n",
    "k2 = 1.08\n",
    "k3 = 0.75\n",
    "k4 = 1.25\n",
    "\n",
    "av_gain = []\n",
    "for epoch in range(100):\n",
    "    gain = []\n",
    "    for ind in random.sample(range(3650), 1600):\n",
    "        gain.append(runEpisode2(ind, p1, p2, k1, k2, k3, k4))\n",
    "    g = np.array(gain)\n",
    "    av_gain.append(np.mean(g))\n",
    "    \n",
    "av = np.array(av_gain)\n",
    "print (np.mean(av), np.std(av))"
   ]
  },
  {
   "cell_type": "code",
   "execution_count": 186,
   "metadata": {},
   "outputs": [
    {
     "name": "stdout",
     "output_type": "stream",
     "text": [
      "602.8729596875005 26.728116994308873\n"
     ]
    }
   ],
   "source": [
    "p1 = 0.8\n",
    "p2 = 0.8\n",
    "\n",
    "k1 = 0.89\n",
    "k2 = 1.11\n",
    "k3 = 0.75\n",
    "k4 = 1.25\n",
    "\n",
    "av_gain = []\n",
    "for epoch in range(100):\n",
    "    gain = []\n",
    "    for ind in random.sample(range(3650), 1600):\n",
    "        gain.append(runEpisode2(ind, p1, p2, k1, k2, k3, k4))\n",
    "    g = np.array(gain)\n",
    "    av_gain.append(np.mean(g))\n",
    "    \n",
    "av = np.array(av_gain)\n",
    "print (np.mean(av), np.std(av))"
   ]
  },
  {
   "cell_type": "code",
   "execution_count": 187,
   "metadata": {},
   "outputs": [
    {
     "name": "stdout",
     "output_type": "stream",
     "text": [
      "518.7168346875004 23.955011230115943\n"
     ]
    }
   ],
   "source": [
    "p1 = 0.8\n",
    "p2 = 0.8\n",
    "\n",
    "k1 = 0.88\n",
    "k2 = 1.12\n",
    "k3 = 0.75\n",
    "k4 = 1.25\n",
    "\n",
    "av_gain = []\n",
    "for epoch in range(100):\n",
    "    gain = []\n",
    "    for ind in random.sample(range(3650), 1600):\n",
    "        gain.append(runEpisode2(ind, p1, p2, k1, k2, k3, k4))\n",
    "    g = np.array(gain)\n",
    "    av_gain.append(np.mean(g))\n",
    "    \n",
    "av = np.array(av_gain)\n",
    "print (np.mean(av), np.std(av))"
   ]
  },
  {
   "cell_type": "code",
   "execution_count": 188,
   "metadata": {},
   "outputs": [
    {
     "name": "stdout",
     "output_type": "stream",
     "text": [
      "597.3778627500005 23.72380624844311\n"
     ]
    }
   ],
   "source": [
    "p1 = 0.8\n",
    "p2 = 0.8\n",
    "\n",
    "k1 = 0.89\n",
    "k2 = 1.11\n",
    "k3 = 0.75\n",
    "k4 = 1.25\n",
    "\n",
    "av_gain = []\n",
    "for epoch in range(100):\n",
    "    gain = []\n",
    "    for ind in random.sample(range(3650), 1600):\n",
    "        gain.append(runEpisode2(ind, p1, p2, k1, k2, k3, k4))\n",
    "    g = np.array(gain)\n",
    "    av_gain.append(np.mean(g))\n",
    "    \n",
    "av = np.array(av_gain)\n",
    "print (np.mean(av), np.std(av))"
   ]
  },
  {
   "cell_type": "code",
   "execution_count": 189,
   "metadata": {},
   "outputs": [
    {
     "name": "stdout",
     "output_type": "stream",
     "text": [
      "600.5824118125006 22.177811095622484\n"
     ]
    }
   ],
   "source": [
    "p1 = 0.8\n",
    "p2 = 0.8\n",
    "\n",
    "k1 = 0.89\n",
    "k2 = 1.11\n",
    "k3 = 0.75\n",
    "k4 = 1.25\n",
    "\n",
    "av_gain = []\n",
    "for epoch in range(100):\n",
    "    gain = []\n",
    "    for ind in random.sample(range(3650), 1600):\n",
    "        gain.append(runEpisode2(ind, p1, p2, k1, k2, k3, k4))\n",
    "    g = np.array(gain)\n",
    "    av_gain.append(np.mean(g))\n",
    "    \n",
    "av = np.array(av_gain)\n",
    "print (np.mean(av), np.std(av))"
   ]
  },
  {
   "cell_type": "code",
   "execution_count": 190,
   "metadata": {},
   "outputs": [
    {
     "name": "stdout",
     "output_type": "stream",
     "text": [
      "596.8166392500007 24.62088287741503\n"
     ]
    }
   ],
   "source": [
    "p1 = 0.8\n",
    "p2 = 0.8\n",
    "\n",
    "k1 = 0.89\n",
    "k2 = 1.11\n",
    "k3 = 0.75\n",
    "k4 = 1.25\n",
    "\n",
    "av_gain = []\n",
    "for epoch in range(100):\n",
    "    gain = []\n",
    "    for ind in random.sample(range(3650), 1600):\n",
    "        gain.append(runEpisode2(ind, p1, p2, k1, k2, k3, k4))\n",
    "    g = np.array(gain)\n",
    "    av_gain.append(np.mean(g))\n",
    "    \n",
    "av = np.array(av_gain)\n",
    "print (np.mean(av), np.std(av))"
   ]
  },
  {
   "cell_type": "code",
   "execution_count": 191,
   "metadata": {},
   "outputs": [
    {
     "name": "stdout",
     "output_type": "stream",
     "text": [
      "603.3274790625006 18.133368696748093\n"
     ]
    }
   ],
   "source": [
    "p1 = 0.8\n",
    "p2 = 0.8\n",
    "\n",
    "k1 = 0.89\n",
    "k2 = 1.11\n",
    "k3 = 0.75\n",
    "k4 = 1.25\n",
    "\n",
    "av_gain = []\n",
    "for epoch in range(100):\n",
    "    gain = []\n",
    "    for ind in random.sample(range(3650), 1600):\n",
    "        gain.append(runEpisode2(ind, p1, p2, k1, k2, k3, k4))\n",
    "    g = np.array(gain)\n",
    "    av_gain.append(np.mean(g))\n",
    "    \n",
    "av = np.array(av_gain)\n",
    "print (np.mean(av), np.std(av))"
   ]
  },
  {
   "cell_type": "markdown",
   "metadata": {},
   "source": [
    "Ok, these parameters seem to produce the total return about 600 in 2 years. Nice."
   ]
  },
  {
   "cell_type": "code",
   "execution_count": 192,
   "metadata": {},
   "outputs": [
    {
     "name": "stdout",
     "output_type": "stream",
     "text": [
      "600.3440068750006 22.181761321969088\n"
     ]
    }
   ],
   "source": [
    "p1 = 0.8\n",
    "p2 = 0.75\n",
    "\n",
    "k1 = 0.89\n",
    "k2 = 1.11\n",
    "k3 = 0.75\n",
    "k4 = 1.25\n",
    "\n",
    "av_gain = []\n",
    "for epoch in range(100):\n",
    "    gain = []\n",
    "    for ind in random.sample(range(3650), 1600):\n",
    "        gain.append(runEpisode2(ind, p1, p2, k1, k2, k3, k4))\n",
    "    g = np.array(gain)\n",
    "    av_gain.append(np.mean(g))\n",
    "    \n",
    "av = np.array(av_gain)\n",
    "print (np.mean(av), np.std(av))"
   ]
  },
  {
   "cell_type": "code",
   "execution_count": 193,
   "metadata": {},
   "outputs": [
    {
     "name": "stdout",
     "output_type": "stream",
     "text": [
      "595.3962168750005 27.40650442720835\n"
     ]
    }
   ],
   "source": [
    "p1 = 0.75\n",
    "p2 = 0.8\n",
    "\n",
    "k1 = 0.89\n",
    "k2 = 1.11\n",
    "k3 = 0.75\n",
    "k4 = 1.25\n",
    "\n",
    "av_gain = []\n",
    "for epoch in range(100):\n",
    "    gain = []\n",
    "    for ind in random.sample(range(3650), 1600):\n",
    "        gain.append(runEpisode2(ind, p1, p2, k1, k2, k3, k4))\n",
    "    g = np.array(gain)\n",
    "    av_gain.append(np.mean(g))\n",
    "    \n",
    "av = np.array(av_gain)\n",
    "print (np.mean(av), np.std(av))"
   ]
  },
  {
   "cell_type": "code",
   "execution_count": 194,
   "metadata": {},
   "outputs": [
    {
     "name": "stdout",
     "output_type": "stream",
     "text": [
      "588.3232726875005 26.61390889961949\n"
     ]
    }
   ],
   "source": [
    "p1 = 0.75\n",
    "p2 = 0.75\n",
    "\n",
    "k1 = 0.89\n",
    "k2 = 1.11\n",
    "k3 = 0.75\n",
    "k4 = 1.25\n",
    "\n",
    "av_gain = []\n",
    "for epoch in range(100):\n",
    "    gain = []\n",
    "    for ind in random.sample(range(3650), 1600):\n",
    "        gain.append(runEpisode2(ind, p1, p2, k1, k2, k3, k4))\n",
    "    g = np.array(gain)\n",
    "    av_gain.append(np.mean(g))\n",
    "    \n",
    "av = np.array(av_gain)\n",
    "print (np.mean(av), np.std(av))"
   ]
  },
  {
   "cell_type": "code",
   "execution_count": 195,
   "metadata": {},
   "outputs": [
    {
     "name": "stdout",
     "output_type": "stream",
     "text": [
      "604.3105174375006 25.000404794227563\n"
     ]
    }
   ],
   "source": [
    "p1 = 0.85\n",
    "p2 = 0.8\n",
    "\n",
    "k1 = 0.89\n",
    "k2 = 1.11\n",
    "k3 = 0.75\n",
    "k4 = 1.25\n",
    "\n",
    "av_gain = []\n",
    "for epoch in range(100):\n",
    "    gain = []\n",
    "    for ind in random.sample(range(3650), 1600):\n",
    "        gain.append(runEpisode2(ind, p1, p2, k1, k2, k3, k4))\n",
    "    g = np.array(gain)\n",
    "    av_gain.append(np.mean(g))\n",
    "    \n",
    "av = np.array(av_gain)\n",
    "print (np.mean(av), np.std(av))"
   ]
  },
  {
   "cell_type": "code",
   "execution_count": 196,
   "metadata": {},
   "outputs": [
    {
     "name": "stdout",
     "output_type": "stream",
     "text": [
      "606.0382773750006 21.550135098907298\n"
     ]
    }
   ],
   "source": [
    "p1 = 0.8\n",
    "p2 = 0.85\n",
    "\n",
    "k1 = 0.89\n",
    "k2 = 1.11\n",
    "k3 = 0.75\n",
    "k4 = 1.25\n",
    "\n",
    "av_gain = []\n",
    "for epoch in range(100):\n",
    "    gain = []\n",
    "    for ind in random.sample(range(3650), 1600):\n",
    "        gain.append(runEpisode2(ind, p1, p2, k1, k2, k3, k4))\n",
    "    g = np.array(gain)\n",
    "    av_gain.append(np.mean(g))\n",
    "    \n",
    "av = np.array(av_gain)\n",
    "print (np.mean(av), np.std(av))"
   ]
  },
  {
   "cell_type": "code",
   "execution_count": 197,
   "metadata": {},
   "outputs": [
    {
     "name": "stdout",
     "output_type": "stream",
     "text": [
      "611.8115354375005 27.8785953466631\n"
     ]
    }
   ],
   "source": [
    "p1 = 0.85\n",
    "p2 = 0.85\n",
    "\n",
    "k1 = 0.89\n",
    "k2 = 1.11\n",
    "k3 = 0.75\n",
    "k4 = 1.25\n",
    "\n",
    "av_gain = []\n",
    "for epoch in range(100):\n",
    "    gain = []\n",
    "    for ind in random.sample(range(3650), 1600):\n",
    "        gain.append(runEpisode2(ind, p1, p2, k1, k2, k3, k4))\n",
    "    g = np.array(gain)\n",
    "    av_gain.append(np.mean(g))\n",
    "    \n",
    "av = np.array(av_gain)\n",
    "print (np.mean(av), np.std(av))"
   ]
  },
  {
   "cell_type": "code",
   "execution_count": 198,
   "metadata": {},
   "outputs": [
    {
     "name": "stdout",
     "output_type": "stream",
     "text": [
      "614.3592706875005 26.18372483121093\n"
     ]
    }
   ],
   "source": [
    "p1 = 0.85\n",
    "p2 = 0.85\n",
    "\n",
    "k1 = 0.89\n",
    "k2 = 1.11\n",
    "k3 = 0.75\n",
    "k4 = 1.25\n",
    "\n",
    "av_gain = []\n",
    "for epoch in range(100):\n",
    "    gain = []\n",
    "    for ind in random.sample(range(3650), 1600):\n",
    "        gain.append(runEpisode2(ind, p1, p2, k1, k2, k3, k4))\n",
    "    g = np.array(gain)\n",
    "    av_gain.append(np.mean(g))\n",
    "    \n",
    "av = np.array(av_gain)\n",
    "print (np.mean(av), np.std(av))"
   ]
  },
  {
   "cell_type": "code",
   "execution_count": 199,
   "metadata": {},
   "outputs": [
    {
     "name": "stdout",
     "output_type": "stream",
     "text": [
      "611.4575803125006 23.516005464201342\n"
     ]
    }
   ],
   "source": [
    "p1 = 0.85\n",
    "p2 = 0.85\n",
    "\n",
    "k1 = 0.89\n",
    "k2 = 1.11\n",
    "k3 = 0.75\n",
    "k4 = 1.25\n",
    "\n",
    "av_gain = []\n",
    "for epoch in range(100):\n",
    "    gain = []\n",
    "    for ind in random.sample(range(3650), 1600):\n",
    "        gain.append(runEpisode2(ind, p1, p2, k1, k2, k3, k4))\n",
    "    g = np.array(gain)\n",
    "    av_gain.append(np.mean(g))\n",
    "    \n",
    "av = np.array(av_gain)\n",
    "print (np.mean(av), np.std(av))"
   ]
  },
  {
   "cell_type": "code",
   "execution_count": 201,
   "metadata": {},
   "outputs": [
    {
     "name": "stdout",
     "output_type": "stream",
     "text": [
      "616.1348000000007 21.988311479267953\n"
     ]
    }
   ],
   "source": [
    "p1 = 0.9\n",
    "p2 = 0.85\n",
    "\n",
    "k1 = 0.89\n",
    "k2 = 1.11\n",
    "k3 = 0.75\n",
    "k4 = 1.25\n",
    "\n",
    "av_gain = []\n",
    "for epoch in range(100):\n",
    "    gain = []\n",
    "    for ind in random.sample(range(3650), 1600):\n",
    "        gain.append(runEpisode2(ind, p1, p2, k1, k2, k3, k4))\n",
    "    g = np.array(gain)\n",
    "    av_gain.append(np.mean(g))\n",
    "    \n",
    "av = np.array(av_gain)\n",
    "print (np.mean(av), np.std(av))"
   ]
  },
  {
   "cell_type": "code",
   "execution_count": 202,
   "metadata": {},
   "outputs": [
    {
     "name": "stdout",
     "output_type": "stream",
     "text": [
      "614.6859845000006 23.44860836927653\n"
     ]
    }
   ],
   "source": [
    "p1 = 0.85\n",
    "p2 = 0.9\n",
    "\n",
    "k1 = 0.89\n",
    "k2 = 1.11\n",
    "k3 = 0.75\n",
    "k4 = 1.25\n",
    "\n",
    "av_gain = []\n",
    "for epoch in range(100):\n",
    "    gain = []\n",
    "    for ind in random.sample(range(3650), 1600):\n",
    "        gain.append(runEpisode2(ind, p1, p2, k1, k2, k3, k4))\n",
    "    g = np.array(gain)\n",
    "    av_gain.append(np.mean(g))\n",
    "    \n",
    "av = np.array(av_gain)\n",
    "print (np.mean(av), np.std(av))"
   ]
  },
  {
   "cell_type": "code",
   "execution_count": 203,
   "metadata": {},
   "outputs": [
    {
     "name": "stdout",
     "output_type": "stream",
     "text": [
      "622.5519918750008 23.830565764396034\n"
     ]
    }
   ],
   "source": [
    "p1 = 0.9\n",
    "p2 = 0.9\n",
    "\n",
    "k1 = 0.89\n",
    "k2 = 1.11\n",
    "k3 = 0.75\n",
    "k4 = 1.25\n",
    "\n",
    "av_gain = []\n",
    "for epoch in range(100):\n",
    "    gain = []\n",
    "    for ind in random.sample(range(3650), 1600):\n",
    "        gain.append(runEpisode2(ind, p1, p2, k1, k2, k3, k4))\n",
    "    g = np.array(gain)\n",
    "    av_gain.append(np.mean(g))\n",
    "    \n",
    "av = np.array(av_gain)\n",
    "print (np.mean(av), np.std(av))"
   ]
  },
  {
   "cell_type": "code",
   "execution_count": 204,
   "metadata": {},
   "outputs": [
    {
     "name": "stdout",
     "output_type": "stream",
     "text": [
      "627.3637068750005 22.126715531227614\n"
     ]
    }
   ],
   "source": [
    "p1 = 0.9\n",
    "p2 = 0.9\n",
    "\n",
    "k1 = 0.89\n",
    "k2 = 1.11\n",
    "k3 = 0.75\n",
    "k4 = 1.25\n",
    "\n",
    "av_gain = []\n",
    "for epoch in range(100):\n",
    "    gain = []\n",
    "    for ind in random.sample(range(3650), 1600):\n",
    "        gain.append(runEpisode2(ind, p1, p2, k1, k2, k3, k4))\n",
    "    g = np.array(gain)\n",
    "    av_gain.append(np.mean(g))\n",
    "    \n",
    "av = np.array(av_gain)\n",
    "print (np.mean(av), np.std(av))"
   ]
  },
  {
   "cell_type": "code",
   "execution_count": 205,
   "metadata": {},
   "outputs": [
    {
     "name": "stdout",
     "output_type": "stream",
     "text": [
      "626.7980005625006 20.225798161821746\n"
     ]
    }
   ],
   "source": [
    "p1 = 0.9\n",
    "p2 = 0.9\n",
    "\n",
    "k1 = 0.89\n",
    "k2 = 1.11\n",
    "k3 = 0.75\n",
    "k4 = 1.25\n",
    "\n",
    "av_gain = []\n",
    "for epoch in range(100):\n",
    "    gain = []\n",
    "    for ind in random.sample(range(3650), 1600):\n",
    "        gain.append(runEpisode2(ind, p1, p2, k1, k2, k3, k4))\n",
    "    g = np.array(gain)\n",
    "    av_gain.append(np.mean(g))\n",
    "    \n",
    "av = np.array(av_gain)\n",
    "print (np.mean(av), np.std(av))"
   ]
  },
  {
   "cell_type": "code",
   "execution_count": 206,
   "metadata": {},
   "outputs": [
    {
     "name": "stdout",
     "output_type": "stream",
     "text": [
      "628.0618574375006 21.9975785884644\n"
     ]
    }
   ],
   "source": [
    "p1 = 0.9\n",
    "p2 = 0.9\n",
    "\n",
    "k1 = 0.89\n",
    "k2 = 1.11\n",
    "k3 = 0.75\n",
    "k4 = 1.25\n",
    "\n",
    "av_gain = []\n",
    "for epoch in range(100):\n",
    "    gain = []\n",
    "    for ind in random.sample(range(3650), 1600):\n",
    "        gain.append(runEpisode2(ind, p1, p2, k1, k2, k3, k4))\n",
    "    g = np.array(gain)\n",
    "    av_gain.append(np.mean(g))\n",
    "    \n",
    "av = np.array(av_gain)\n",
    "print (np.mean(av), np.std(av))"
   ]
  },
  {
   "cell_type": "code",
   "execution_count": 207,
   "metadata": {},
   "outputs": [
    {
     "name": "stdout",
     "output_type": "stream",
     "text": [
      "631.6794576250006 21.62617705054457\n"
     ]
    }
   ],
   "source": [
    "p1 = 0.95\n",
    "p2 = 0.9\n",
    "\n",
    "k1 = 0.89\n",
    "k2 = 1.11\n",
    "k3 = 0.75\n",
    "k4 = 1.25\n",
    "\n",
    "av_gain = []\n",
    "for epoch in range(100):\n",
    "    gain = []\n",
    "    for ind in random.sample(range(3650), 1600):\n",
    "        gain.append(runEpisode2(ind, p1, p2, k1, k2, k3, k4))\n",
    "    g = np.array(gain)\n",
    "    av_gain.append(np.mean(g))\n",
    "    \n",
    "av = np.array(av_gain)\n",
    "print (np.mean(av), np.std(av))"
   ]
  },
  {
   "cell_type": "code",
   "execution_count": 208,
   "metadata": {},
   "outputs": [
    {
     "name": "stdout",
     "output_type": "stream",
     "text": [
      "625.6242045625006 25.029058520521748\n"
     ]
    }
   ],
   "source": [
    "p1 = 0.9\n",
    "p2 = 0.95\n",
    "\n",
    "k1 = 0.89\n",
    "k2 = 1.11\n",
    "k3 = 0.75\n",
    "k4 = 1.25\n",
    "\n",
    "av_gain = []\n",
    "for epoch in range(100):\n",
    "    gain = []\n",
    "    for ind in random.sample(range(3650), 1600):\n",
    "        gain.append(runEpisode2(ind, p1, p2, k1, k2, k3, k4))\n",
    "    g = np.array(gain)\n",
    "    av_gain.append(np.mean(g))\n",
    "    \n",
    "av = np.array(av_gain)\n",
    "print (np.mean(av), np.std(av))"
   ]
  },
  {
   "cell_type": "code",
   "execution_count": 209,
   "metadata": {},
   "outputs": [
    {
     "name": "stdout",
     "output_type": "stream",
     "text": [
      "634.7967285000008 22.707008628244207\n"
     ]
    }
   ],
   "source": [
    "p1 = 0.95\n",
    "p2 = 0.95\n",
    "\n",
    "k1 = 0.89\n",
    "k2 = 1.11\n",
    "k3 = 0.75\n",
    "k4 = 1.25\n",
    "\n",
    "av_gain = []\n",
    "for epoch in range(100):\n",
    "    gain = []\n",
    "    for ind in random.sample(range(3650), 1600):\n",
    "        gain.append(runEpisode2(ind, p1, p2, k1, k2, k3, k4))\n",
    "    g = np.array(gain)\n",
    "    av_gain.append(np.mean(g))\n",
    "    \n",
    "av = np.array(av_gain)\n",
    "print (np.mean(av), np.std(av))"
   ]
  },
  {
   "cell_type": "code",
   "execution_count": 210,
   "metadata": {},
   "outputs": [
    {
     "name": "stdout",
     "output_type": "stream",
     "text": [
      "640.6715960000006 23.720626383748396\n"
     ]
    }
   ],
   "source": [
    "p1 = 1.0\n",
    "p2 = 1.0\n",
    "\n",
    "k1 = 0.89\n",
    "k2 = 1.11\n",
    "k3 = 0.75\n",
    "k4 = 1.25\n",
    "\n",
    "av_gain = []\n",
    "for epoch in range(100):\n",
    "    gain = []\n",
    "    for ind in random.sample(range(3650), 1600):\n",
    "        gain.append(runEpisode2(ind, p1, p2, k1, k2, k3, k4))\n",
    "    g = np.array(gain)\n",
    "    av_gain.append(np.mean(g))\n",
    "    \n",
    "av = np.array(av_gain)\n",
    "print (np.mean(av), np.std(av))"
   ]
  },
  {
   "cell_type": "code",
   "execution_count": 211,
   "metadata": {},
   "outputs": [
    {
     "name": "stdout",
     "output_type": "stream",
     "text": [
      "645.1643848750006 20.83326007027234\n"
     ]
    }
   ],
   "source": [
    "p1 = 1.0\n",
    "p2 = 1.0\n",
    "\n",
    "k1 = 0.89\n",
    "k2 = 1.11\n",
    "k3 = 0.75\n",
    "k4 = 1.25\n",
    "\n",
    "av_gain = []\n",
    "for epoch in range(100):\n",
    "    gain = []\n",
    "    for ind in random.sample(range(3650), 1600):\n",
    "        gain.append(runEpisode2(ind, p1, p2, k1, k2, k3, k4))\n",
    "    g = np.array(gain)\n",
    "    av_gain.append(np.mean(g))\n",
    "    \n",
    "av = np.array(av_gain)\n",
    "print (np.mean(av), np.std(av))"
   ]
  },
  {
   "cell_type": "code",
   "execution_count": 212,
   "metadata": {},
   "outputs": [
    {
     "name": "stdout",
     "output_type": "stream",
     "text": [
      "643.4453230625006 26.678392083409406\n"
     ]
    }
   ],
   "source": [
    "p1 = 1.0\n",
    "p2 = 1.0\n",
    "\n",
    "k1 = 0.89\n",
    "k2 = 1.11\n",
    "k3 = 0.75\n",
    "k4 = 1.25\n",
    "\n",
    "av_gain = []\n",
    "for epoch in range(100):\n",
    "    gain = []\n",
    "    for ind in random.sample(range(3650), 1600):\n",
    "        gain.append(runEpisode2(ind, p1, p2, k1, k2, k3, k4))\n",
    "    g = np.array(gain)\n",
    "    av_gain.append(np.mean(g))\n",
    "    \n",
    "av = np.array(av_gain)\n",
    "print (np.mean(av), np.std(av))"
   ]
  },
  {
   "cell_type": "code",
   "execution_count": 213,
   "metadata": {},
   "outputs": [
    {
     "name": "stdout",
     "output_type": "stream",
     "text": [
      "645.0867941250008 19.760438036054317\n"
     ]
    }
   ],
   "source": [
    "p1 = 1.0\n",
    "p2 = 1.0\n",
    "\n",
    "k1 = 0.89\n",
    "k2 = 1.11\n",
    "k3 = 0.75\n",
    "k4 = 1.25\n",
    "\n",
    "av_gain = []\n",
    "for epoch in range(100):\n",
    "    gain = []\n",
    "    for ind in random.sample(range(3650), 1600):\n",
    "        gain.append(runEpisode2(ind, p1, p2, k1, k2, k3, k4))\n",
    "    g = np.array(gain)\n",
    "    av_gain.append(np.mean(g))\n",
    "    \n",
    "av = np.array(av_gain)\n",
    "print (np.mean(av), np.std(av))"
   ]
  },
  {
   "cell_type": "code",
   "execution_count": 214,
   "metadata": {},
   "outputs": [
    {
     "name": "stdout",
     "output_type": "stream",
     "text": [
      "643.7472385000005 22.395193238872025\n"
     ]
    }
   ],
   "source": [
    "p1 = 1.0\n",
    "p2 = 1.0\n",
    "\n",
    "k1 = 0.89\n",
    "k2 = 1.11\n",
    "k3 = 0.75\n",
    "k4 = 1.25\n",
    "\n",
    "av_gain = []\n",
    "for epoch in range(100):\n",
    "    gain = []\n",
    "    for ind in random.sample(range(3650), 1600):\n",
    "        gain.append(runEpisode2(ind, p1, p2, k1, k2, k3, k4))\n",
    "    g = np.array(gain)\n",
    "    av_gain.append(np.mean(g))\n",
    "    \n",
    "av = np.array(av_gain)\n",
    "print (np.mean(av), np.std(av))"
   ]
  },
  {
   "cell_type": "code",
   "execution_count": 215,
   "metadata": {},
   "outputs": [
    {
     "name": "stdout",
     "output_type": "stream",
     "text": [
      "641.8074520625007 23.51362331291693\n"
     ]
    }
   ],
   "source": [
    "p1 = 1.0\n",
    "p2 = 1.0\n",
    "\n",
    "k1 = 0.89\n",
    "k2 = 1.11\n",
    "k3 = 0.75\n",
    "k4 = 1.25\n",
    "\n",
    "av_gain = []\n",
    "for epoch in range(100):\n",
    "    gain = []\n",
    "    for ind in random.sample(range(3650), 1600):\n",
    "        gain.append(runEpisode2(ind, p1, p2, k1, k2, k3, k4))\n",
    "    g = np.array(gain)\n",
    "    av_gain.append(np.mean(g))\n",
    "    \n",
    "av = np.array(av_gain)\n",
    "print (np.mean(av), np.std(av))"
   ]
  },
  {
   "cell_type": "markdown",
   "metadata": {},
   "source": [
    "Very interesting. It seems that we again end up with a deterministic policy....p1 = 100% and p2 = 100%"
   ]
  },
  {
   "cell_type": "markdown",
   "metadata": {},
   "source": [
    "Let's turn to the test set:"
   ]
  },
  {
   "cell_type": "code",
   "execution_count": 216,
   "metadata": {
    "collapsed": true
   },
   "outputs": [],
   "source": [
    "p1 = 1.0\n",
    "p2 = 1.0\n",
    "\n",
    "k1 = 0.89\n",
    "k2 = 1.11\n",
    "k3 = 0.75\n",
    "k4 = 1.25\n",
    "\n",
    "test_gain = []\n",
    "\n",
    "for i in range(3651, 3751):\n",
    "    test_gain.append(runEpisode2(i, p1, p2, k1, k2, k3, k4))"
   ]
  },
  {
   "cell_type": "code",
   "execution_count": 217,
   "metadata": {},
   "outputs": [
    {
     "name": "stdout",
     "output_type": "stream",
     "text": [
      "1558.6718000000003 1004.6348558689174\n"
     ]
    }
   ],
   "source": [
    "tg = np.array(test_gain)\n",
    "print (np.mean(tg), np.std(tg))"
   ]
  },
  {
   "cell_type": "code",
   "execution_count": 218,
   "metadata": {},
   "outputs": [
    {
     "data": {
      "text/plain": [
       "(array([26.,  0.,  0.,  0.,  2., 27.,  3., 11., 20., 11.]),\n",
       " array([   0.   ,  291.442,  582.884,  874.326, 1165.768, 1457.21 ,\n",
       "        1748.652, 2040.094, 2331.536, 2622.978, 2914.42 ]),\n",
       " <a list of 10 Patch objects>)"
      ]
     },
     "execution_count": 218,
     "metadata": {},
     "output_type": "execute_result"
    },
    {
     "data": {
      "image/png": "[encoded data removed]",
      "text/plain": [
       "<matplotlib.figure.Figure at 0x17768a43f98>"
      ]
     },
     "metadata": {},
     "output_type": "display_data"
    }
   ],
   "source": [
    "plt.hist(test_gain)"
   ]
  },
  {
   "cell_type": "code",
   "execution_count": 219,
   "metadata": {},
   "outputs": [
    {
     "data": {
      "text/plain": [
       "0.0"
      ]
     },
     "execution_count": 219,
     "metadata": {},
     "output_type": "execute_result"
    }
   ],
   "source": [
    "np.min(tg)"
   ]
  },
  {
   "cell_type": "code",
   "execution_count": 220,
   "metadata": {},
   "outputs": [
    {
     "data": {
      "text/plain": [
       "2914.42"
      ]
     },
     "execution_count": 220,
     "metadata": {},
     "output_type": "execute_result"
    }
   ],
   "source": [
    "np.max(tg)"
   ]
  },
  {
   "cell_type": "markdown",
   "metadata": {
    "collapsed": true
   },
   "source": [
    "Let's sum up. The best return with just one intermediate state (the simplest discretisation of the Action space - invest half the money, then the other half if the price is good; if fully invested - sell half your shares then the other half, if the price is right, of course) was achieved for a deterministic policy. The Agents used its memory, the threshold prices were influenced by the previous action of the Agent. This means that the system lost its Markov property. This makes life hard. I could consider the states determined by the external variable - share price and the current portfolio status (S1, S2, or S3) as pairs of aliased states with one more hidden parameter - the market sentiment. But to do this, I'll need to figure out how to determine the value of the market sentiment value (e.g. positive, neutral, negative) from the price history before the current date."
   ]
  },
  {
   "cell_type": "code",
   "execution_count": null,
   "metadata": {
    "collapsed": true
   },
   "outputs": [],
   "source": []
  }
 ],
 "metadata": {
  "kernelspec": {
   "display_name": "Python 3",
   "language": "python",
   "name": "python3"
  },
  "language_info": {
   "codemirror_mode": {
    "name": "ipython",
    "version": 3
   },
   "file_extension": ".py",
   "mimetype": "text/x-python",
   "name": "python",
   "nbconvert_exporter": "python",
   "pygments_lexer": "ipython3",
   "version": "3.6.4"
  }
 },
 "nbformat": 4,
 "nbformat_minor": 2
}
